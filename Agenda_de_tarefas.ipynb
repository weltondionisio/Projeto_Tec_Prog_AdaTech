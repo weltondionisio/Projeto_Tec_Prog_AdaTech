{
  "nbformat": 4,
  "nbformat_minor": 0,
  "metadata": {
    "colab": {
      "provenance": [],
      "authorship_tag": "ABX9TyPw6XiPHA89iKnjHUnns4hZ",
      "include_colab_link": true
    },
    "kernelspec": {
      "name": "python3",
      "display_name": "Python 3"
    },
    "language_info": {
      "name": "python"
    }
  },
  "cells": [
    {
      "cell_type": "markdown",
      "metadata": {
        "id": "view-in-github",
        "colab_type": "text"
      },
      "source": [
        "<a href=\"https://colab.research.google.com/github/weltondionisio/Projetos_de_programacao_em_Python/blob/main/Agenda_de_tarefas.ipynb\" target=\"_parent\"><img src=\"https://colab.research.google.com/assets/colab-badge.svg\" alt=\"Open In Colab\"/></a>"
      ]
    },
    {
      "cell_type": "markdown",
      "source": [
        "O programa em Python abaixo utiliza uma lista prévia para criar uma agenda de tarefas com status (concluída ou pendente) e uma data-limite para conclusão. A função principal \"agenda()\" aloca cinco outras funções que: imprime as tarefas pendentes (print_pend), imprime as tarefas concluídas (print_conc), cadastra novas tarefas (cad_tarefa) e muda o status de uma tarefa para concluída (conc_tarefa)."
      ],
      "metadata": {
        "id": "gcSWblodrCM9"
      }
    },
    {
      "cell_type": "code",
      "execution_count": null,
      "metadata": {
        "id": "-IjGbwOiqzFN"
      },
      "outputs": [],
      "source": [
        "import csv\n",
        "registro = [[\"data_cadastro\",\"descricao\",\"status\",\"data_limite\"], \n",
        "          [\"22/09/2022\", \"Arrumar casa\", \"concluída\", \"22/09/2022\"],\n",
        "          [\"22/09/2022\", \"Ler livro\", \"concluída\", \"22/09/2022\"],\n",
        "          [\"22/09/2022\", \"Lavar louça\", \"concluída\", \"22/09/2022\"]]\n",
        "\n",
        "arquivo = open(\"lista.csv\",\"w\")\n",
        "lista = csv.writer(arquivo, delimiter=\",\", lineterminator=\"\\n\")\n",
        "lista.writerows(registro)\n",
        "arquivo.close()\n",
        "\n",
        "def print_pend(registro:list) -> None:\n",
        "  from tabulate import tabulate\n",
        "  with open('lista.csv', newline='') as f:\n",
        "    reader = csv.reader(f)\n",
        "    data = list(reader)\n",
        "  pendentes = []\n",
        "  [pendentes.append(tarefa) for tarefa in data if tarefa[2] == \"pendente\"]\n",
        "  print(tabulate(pendentes, headers=[\"data_cadastro\",\"descricao\",\"status\",\"data_limite\"]))\n",
        "  \n",
        "def print_conc(registro:list) -> None:\n",
        "  from tabulate import tabulate\n",
        "  with open('lista.csv', newline='') as f:\n",
        "    reader = csv.reader(f)\n",
        "    data = list(reader)\n",
        "  concluidas = []\n",
        "  [concluidas.append(tarefa) for tarefa in data if tarefa[2] == \"concluída\"]\n",
        "  print(tabulate(concluidas, headers=[\"data_cadastro\",\"descricao\",\"status\",\"data_limite\"]))\n",
        "\n",
        "def cad_tarefa() -> list:\n",
        "  from datetime import datetime\n",
        "  from csv import writer\n",
        "  agora = datetime.now()\n",
        "  hoje = agora.strftime(\"%d/%m/%Y\")\n",
        "  descricao = input('Qual tarefa deseja cadastrar?')\n",
        "  data_limite = input('Registre a data limite para realizar essa tarefa.')\n",
        "  tarefa_nova = [hoje, descricao, \"pendente\", data_limite]\n",
        "  arquivo = open(\"lista.csv\",\"a\")\n",
        "  writer_object = writer(arquivo)\n",
        "  writer_object.writerow(tarefa_nova)\n",
        "  arquivo.close()\n",
        "  print('Tarefa cadastrada com sucesso.')\n",
        "  \n",
        "def conc_tarefa(registro:list) -> None:\n",
        "  import csv\n",
        "  from tabulate import tabulate\n",
        "  from csv import writer\n",
        "  print('Indique o ID da tarefa concluída:')\n",
        "  with open('lista.csv', newline='') as f:\n",
        "    reader = csv.reader(f)\n",
        "    data = list(reader)\n",
        "  pendentes = []\n",
        "  [pendentes.append([index+1, tarefa[0], tarefa[1], tarefa[2], tarefa[3]]) for index,tarefa in enumerate(data) if tarefa[2] == \"pendente\"]\n",
        "  print(tabulate(pendentes, headers=[\"ID\", \"data_cadastro\",\"descricao\",\"status\",\"data_limite\"]))\n",
        "  conclusao = int(input())\n",
        "  for index, tarefa in enumerate(data):\n",
        "    if tarefa[2] == \"pendente\" and index + 1 == conclusao:\n",
        "      data[index][2] = \"concluída\"\n",
        "      pendentes = []\n",
        "      [pendentes.append([index+1, tarefa[0], tarefa[1], tarefa[2], tarefa[3]]) for index,tarefa in enumerate(data) if tarefa[2] == \"pendente\"]\n",
        "      break\n",
        "  with open(\"lista.csv\", \"w\", newline='') as f:\n",
        "    writer = csv.writer(f)\n",
        "    writer.writerows(data)\n",
        "  print(\"Tarefa concluída com sucesso.\")\n",
        "\n",
        "def agenda():\n",
        "  from tabulate import tabulate\n",
        "  import csv\n",
        "  comando = 1\n",
        "  while comando == 1 or comando <=5:\n",
        "    comando = int(input('''Olá, veja suas tarefas!\n",
        "    1 - Tarefas Pendentes\n",
        "    2 - Tarefas Concluídas\n",
        "    3 - Cadastrar Tarefa\n",
        "    4 - Concluir Tarefa\n",
        "    5 - Sair'''))\n",
        "    if comando == 1:\n",
        "      print_pend(registro)\n",
        "    elif comando == 2:\n",
        "      print_conc(registro)\n",
        "    elif comando == 3:\n",
        "      cad_tarefa()\n",
        "    elif comando == 4:\n",
        "      conc_tarefa(registro)\n",
        "\n",
        "    elif comando == 5:\n",
        "      print(\"Programa encerrado.\")\n",
        "      break\n",
        "    else:\n",
        "      print('Selecione uma opção válida.')\n",
        "      comando = 1\n",
        "\n",
        "\n",
        "agenda()"
      ]
    }
  ]
}