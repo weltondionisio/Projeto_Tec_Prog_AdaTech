{
  "nbformat": 4,
  "nbformat_minor": 0,
  "metadata": {
    "colab": {
      "provenance": [],
      "authorship_tag": "ABX9TyM05GGH+NsXAm+y+8qFg09X",
      "include_colab_link": true
    },
    "kernelspec": {
      "name": "python3",
      "display_name": "Python 3"
    },
    "language_info": {
      "name": "python"
    }
  },
  "cells": [
    {
      "cell_type": "markdown",
      "metadata": {
        "id": "view-in-github",
        "colab_type": "text"
      },
      "source": [
        "<a href=\"https://colab.research.google.com/github/weltondionisio/Projeto_Tec_Prog_AdaTech/blob/main/Projeto_Tecnicas_de_prog_1.ipynb\" target=\"_parent\"><img src=\"https://colab.research.google.com/assets/colab-badge.svg\" alt=\"Open In Colab\"/></a>"
      ]
    },
    {
      "cell_type": "markdown",
      "source": [
        "Projeto desenvolvido para a disciplina de Técnicas de Programação da AdaTech como método avaliativo. Utilizando a base de dados de cursos da Udemy, foram solucionadas algumas questões."
      ],
      "metadata": {
        "id": "0o04VW-mrN2s"
      }
    },
    {
      "cell_type": "code",
      "source": [
        "#importando bibliotecas e criando\n",
        "import numpy as np\n",
        "import pandas as pd\n",
        "\n",
        "#carregando base de dados\n",
        "business = pd.read_csv(\"3.1-data-sheet-udemy-courses-business-courses.csv\", sep=\",\")\n",
        "design = pd.read_csv(\"3.1-data-sheet-udemy-courses-business-courses.csv\", sep=\",\")\n",
        "music = pd.read_csv(\"3.1-data-sheet-udemy-courses-business-courses.csv\", sep=\",\")\n",
        "web_dev = pd.read_csv(\"3.1-data-sheet-udemy-courses-web-development.csv\", sep=',')\n",
        "\n",
        "#concatenando as quatro bases em um único dataframe\n",
        "matriz = pd.concat([business, design, music, web_dev], axis=0)"
      ],
      "metadata": {
        "id": "hF7UhhxgQsl_"
      },
      "execution_count": 1,
      "outputs": []
    },
    {
      "cell_type": "markdown",
      "source": [
        "### Perguntas a serem respondidas a partir dos dados."
      ],
      "metadata": {
        "id": "0g8oY9WKPoRG"
      }
    },
    {
      "cell_type": "markdown",
      "source": [
        "1. Quantos cursos estão disponíveis na plataforma?"
      ],
      "metadata": {
        "id": "jGwqclgHQ2oO"
      }
    },
    {
      "cell_type": "code",
      "source": [
        "total_cursos = matriz.shape[0]\n",
        "print(f'Estão disponíveis {total_cursos} cursos.')"
      ],
      "metadata": {
        "id": "f07YksEmTanq",
        "colab": {
          "base_uri": "https://localhost:8080/"
        },
        "outputId": "dbfc289d-0d7f-4516-d6d0-9bd642f2b2f7"
      },
      "execution_count": 2,
      "outputs": [
        {
          "output_type": "stream",
          "name": "stdout",
          "text": [
            "Estão disponíveis 4781 cursos.\n"
          ]
        }
      ]
    },
    {
      "cell_type": "markdown",
      "source": [
        "2. Quais e quantos são os cursos que abordam o assunto: JavaScript?"
      ],
      "metadata": {
        "id": "CU-dBUxpyVlu"
      }
    },
    {
      "cell_type": "code",
      "source": [
        "#check_java = matriz['course_title'].str.contains('JavaScript', case=False, regex=False).dropna()\n",
        "check_java = matriz[matriz['course_title'].str.contains('JavaScript', na=False, regex=False)].shape[0]\n",
        "cursos_java = matriz['course_title'].where(matriz['course_title'].str.contains('JavaScript', na=False, regex=False) == True).dropna().reset_index()['course_title'].to_string(index=False)\n",
        "print(f'No total, são {check_java} cursos de JavaScript. Sendo estes: \\n{cursos_java}')"
      ],
      "metadata": {
        "colab": {
          "base_uri": "https://localhost:8080/"
        },
        "id": "f-H9CLZyyXa-",
        "outputId": "dee8fbda-c1dd-4548-ce77-2384f6a42749"
      },
      "execution_count": 3,
      "outputs": [
        {
          "output_type": "stream",
          "name": "stdout",
          "text": [
            "No total, são 111 cursos de JavaScript. Sendo estes: \n",
            "         JavaScript: Understanding the Weird Parts\n",
            "Learning Dynamic Website Design - PHP MySQL and...\n",
            "The Complete JavaScript Course For Web Developm...\n",
            "Essentials of JavaScript Practice Coding Exerci...\n",
            "The Complete JavaScript Course: Build a Real-Wo...\n",
            "                                 1 Hour JavaScript\n",
            "          Building Websites JavaScript and the DOM\n",
            "JavaScript Intro to learning JavaScript web pro...\n",
            "Learning JavaScript Programming Tutorial. A Def...\n",
            "JavaScript Rockstar How to create Incredible Us...\n",
            "                    Learn JavaScript for beginners\n",
            "JavaScript Tricks how to create code projects f...\n",
            "JavaScript Step by Step how to apply it to your...\n",
            "              Learn JavaScript for Web Development\n",
            "        Programming for Entrepreneurs - JavaScript\n",
            "JavaScript For Beginners : Learn JavaScript Fro...\n",
            "JavaScript for Beginners Welcome to learning Ja...\n",
            "                 JavaScript for Absolute Beginners\n",
            "JavaScript Game Development: Create Your Own Br...\n",
            " JavaScript Basics Web Development Building Blocks\n",
            "Dynamic JavaScript Master Class AJAX JSON Simpl...\n",
            "Introductory JavaScript Made Easy Training Tuto...\n",
            "HTML CSS JavaScript: Most popular ways to code ...\n",
            "                   Projects In JavaScript & JQuery\n",
            "Start Writing JavaScript Today - Beginner JavaS...\n",
            "JavaScript Introduction to Object Oriented Java...\n",
            "           JavaScript for Beginning Web Developers\n",
            "          JavaScript in Action JavaScript Projects\n",
            "HTML5 APIs For JavaScript - A Course For Web De...\n",
            "Complete JavaScript Course for Beginners with E...\n",
            "JavaScript DOM Dynamic Web interactive content ...\n",
            "  JavaScript HTML CSS Project make a Quiz Tutorial\n",
            "              Comprehensive JavaScript Programming\n",
            "Full Stack JavaScript: Learn Backbone.js, Node....\n",
            "JavaScript project Learn to create a memory Gam...\n",
            "               Accelerated ES6 JavaScript Training\n",
            "Explore JavaScript Beginners Guide to Coding Ja...\n",
            "  Interactive Dynamic JavaScript for beginners DOM\n",
            "JavaScript Basics for Beginners Introduction to...\n",
            "                JavaScript from Beginner to Expert\n",
            "The complete JavaScript developer: MEAN stack z...\n",
            "                   Accelerated JavaScript Training\n",
            "       JavaScript for beginners with live examples\n",
            "                    Power up HTML5 with JavaScript\n",
            "                           JavaScript Fundamentals\n",
            "                     Learn JavaScript from scratch\n",
            "  JavaScript the Basics - JavaScript for Beginners\n",
            "Master JavaScript Programming, 3 Projects Inclu...\n",
            "VueJS V1 Introduction to VueJS JavaScript Frame...\n",
            "Learn JSON with JavaScript Objects and APIs in ...\n",
            "      The Complete Guide to JavaScript Development\n",
            "Ajax in JavaScript and JQuery, with PHP - Creat...\n",
            "          Learn JSON for beginners with JavaScript\n",
            "                       Ultimate JavaScript Strings\n",
            "Expert Guide : Mastering Functions in JavaScript !\n",
            "Essential JavaScript, jQuery and AngularJS Trai...\n",
            "JavaScript Design Patterns: 20 Patterns for Exp...\n",
            "JavaScript For Beginners : Learn JavaScript Fro...\n",
            "   Learn To Program JavaScript (in ten easy steps)\n",
            "JavaScript Complete for beginners with real wor...\n",
            "Master ExpressJS to Build Web Apps with NodeJS&...\n",
            "Learn JavaScript From Scratch:Become Top Rated ...\n",
            "Learn JavaScript Dynamic Interactive Projects f...\n",
            "Kids Coding -Introduction to HTML, CSS and Java...\n",
            "Learn to code, Become a Web Developer and Maste...\n",
            "  JavaScript programming: JavaScript for beginners\n",
            "Canvas image Creator HTML5 JavaScript project f...\n",
            "                JavaScript for beginners in 1 hour\n",
            "JavaScript Tutorial: Learn JavaScript Code for ...\n",
            " Coding Made Easy: A Beginners Guide To JavaScript\n",
            "Master Electron: Desktop Apps using HTML, JavaS...\n",
            "Modern JavaScript: Building Real-World, Real-Ti...\n",
            "                  The Complete JavaScript Bootcamp\n",
            "JavaScript with BackboneJS and Bootstrap CSS - ...\n",
            "                     Using Modern JavaScript Today\n",
            "JavaScript manipulation of the DOM Document Obj...\n",
            "  Start Web Development with GIS Map in JavaScript\n",
            "Learn React : The World's Most Lucrative JavaSc...\n",
            "                       JavaScript, jQuery and Ajax\n",
            "                       Ultimate JavaScript Objects\n",
            "                   Getting started with JavaScript\n",
            "               JavaScript - Tricks and Workarounds\n",
            "      Learn to Code in HTML5, CSS3, and JavaScript\n",
            "   JavaScript 2017: Become Top Rated Web Developer\n",
            "   JavaScript and jQuery Basics: Start The Journey\n",
            "  JavaScript Complete Guide to learning JavaScript\n",
            "        JavaScript from Scratch for Very Beginners\n",
            "       JavaScript for beginners - A Complete Guide\n",
            "Learn jQuery from Scratch - Master of JavaScrip...\n",
            "ReactJS Course: Learn JavaScript Library Used b...\n",
            "                 So you think you know JavaScript?\n",
            "              JavaScript Basics For Web Developers\n",
            "A Beginner's Guide to the Meteor JavaScript Fra...\n",
            "               JavaScript : JavaScript Awesomeness\n",
            "     JavaScript For Absolute Beginners - Level One\n",
            "JavaScript - Become Higly Paid Front End Developer\n",
            "                              Mastering JavaScript\n",
            "Basic JavaScript: Build 4 Basic JavaScript Proj...\n",
            "JavaScript Promises: Applications in ES6 and An...\n",
            "      HTML5, CSS3 And JavaScript Fundamentals 2016\n",
            "                               JavaScript Tutorial\n",
            "               Learning Object-Oriented JavaScript\n",
            "  Mastering Meteor: Reactive Full Stack JavaScript\n",
            "                       JavaScript High Performance\n",
            "     JavaScript For Absolute Beginners - Level Two\n",
            "              JavaScript from Beginner to Advanced\n",
            "               Let's JavaScript! Code a calculator\n",
            "Advance JavaScript for Coders: Learn OOP in Jav...\n",
            "17 Complete JavaScript projects explained step ...\n",
            "Popular JavaScript Framework:Learn The Language...\n",
            "The Complete JavaScript, HTML and CSS Tutorial ...\n"
          ]
        }
      ]
    },
    {
      "cell_type": "markdown",
      "source": [
        "3. Qual é o preço médio (coluna *price*) dos cursos oferecidos na plataforma?"
      ],
      "metadata": {
        "id": "_fUAqpTqyayZ"
      }
    },
    {
      "cell_type": "code",
      "source": [
        "media_preco = matriz['price'].mean()\n",
        "print(f'O preço médio dos cursos da Udemy é {media_preco} US$.')"
      ],
      "metadata": {
        "colab": {
          "base_uri": "https://localhost:8080/"
        },
        "id": "poBmIQmhydEf",
        "outputId": "68591f09-7a0c-45b6-d67e-f4debbc5162f"
      },
      "execution_count": 4,
      "outputs": [
        {
          "output_type": "stream",
          "name": "stdout",
          "text": [
            "O preço médio dos cursos da Udemy é 70.79564489112228 US$.\n"
          ]
        }
      ]
    },
    {
      "cell_type": "markdown",
      "source": [
        "4. Quais são os cinco cursos com maior número de inscritos (coluna *num_subscribers*)?"
      ],
      "metadata": {
        "id": "FL3HHD_SyhDV"
      }
    },
    {
      "cell_type": "code",
      "source": [
        "numero_inscritos = matriz.sort_values(by=['num_subscribers']).dropna()[::-1]['course_title'][0:5].to_string(index=False)\n",
        "print(f'Os cinco cursos com mais inscritos são: \\n{numero_inscritos}.')"
      ],
      "metadata": {
        "colab": {
          "base_uri": "https://localhost:8080/"
        },
        "id": "IICDa1XLylul",
        "outputId": "6e79aa18-490c-4c34-a47a-86138607c666"
      },
      "execution_count": 5,
      "outputs": [
        {
          "output_type": "stream",
          "name": "stdout",
          "text": [
            "Os cinco cursos com mais inscritos são: \n",
            "              Learn HTML5 Programming From Scratch\n",
            "                    Coding for Entrepreneurs Basic\n",
            "                        The Web Developer Bootcamp\n",
            "Build Your First Website in 1 Week with HTML5 a...\n",
            "             The Complete Web Developer Course 2.0.\n"
          ]
        }
      ]
    },
    {
      "cell_type": "markdown",
      "source": [
        "5. Dos cinco cursos mais populares em termos de inscritos, mostre o **rate médio**, **máximo** e **mínimo** de cada um deles."
      ],
      "metadata": {
        "id": "ZkNuKWeJytDc"
      }
    },
    {
      "cell_type": "code",
      "source": [
        "rate_medio = matriz.sort_values(by=['num_subscribers']).dropna()[::-1][0:5]['Rating'].mean()\n",
        "rate_maximo = matriz.sort_values(by=['num_subscribers']).dropna()[::-1][0:5]['Rating'].max()\n",
        "rate_minimo = matriz.sort_values(by=['num_subscribers']).dropna()[::-1][0:5]['Rating'].min()\n",
        "print(f'O rating médio, máximo, e mínimo foram {round(rate_medio, 2)}, {rate_maximo}, e {rate_minimo}, respectivamente.')"
      ],
      "metadata": {
        "colab": {
          "base_uri": "https://localhost:8080/"
        },
        "id": "pKfUvOZpyvnw",
        "outputId": "f90be124-9367-4979-a460-e71b46f139df"
      },
      "execution_count": 6,
      "outputs": [
        {
          "output_type": "stream",
          "name": "stdout",
          "text": [
            "O rating médio, máximo, e mínimo foram 0.75, 0.89, e 0.55, respectivamente.\n"
          ]
        }
      ]
    },
    {
      "cell_type": "markdown",
      "source": [
        "6. Apresente os dez cursos mais visualizados na plataforma."
      ],
      "metadata": {
        "id": "Mvi_tgffy4X8"
      }
    },
    {
      "cell_type": "code",
      "source": [
        "mais_vistos = matriz.sort_values(by=['num_reviews']).dropna().drop_duplicates(keep = 'first')[::-1][0:10]\n",
        "nomes_mais_vistos = mais_vistos['course_title'].to_string(index=False)\n",
        "print(f'Estes são os 10 cursos mais visualizados na Udemy: \\n{nomes_mais_vistos}')"
      ],
      "metadata": {
        "colab": {
          "base_uri": "https://localhost:8080/"
        },
        "id": "ndXqs6B_y8lv",
        "outputId": "f5a3aa8b-606d-4a31-dec5-105ff7d0a122"
      },
      "execution_count": 7,
      "outputs": [
        {
          "output_type": "stream",
          "name": "stdout",
          "text": [
            "Estes são os 10 cursos mais visualizados na Udemy: \n",
            "                        The Web Developer Bootcamp\n",
            "             The Complete Web Developer Course 2.0\n",
            "Angular 4 (formerly Angular 2) - The Complete G...\n",
            "         JavaScript: Understanding the Weird Parts\n",
            "                           Modern React with Redux\n",
            "                    Learn and Understand AngularJS\n",
            "                       Learn and Understand NodeJS\n",
            "              Learn HTML5 Programming From Scratch\n",
            "Angular 2 with TypeScript for Beginners: The Pr...\n",
            "Build Responsive Real World Websites with HTML5...\n"
          ]
        }
      ]
    },
    {
      "cell_type": "markdown",
      "source": [
        "7. A partir dos dez cursos mais vistos, mostre: 1) qual tem o maior número de inscritos; 2) qual tem o maior **rate** (avaliação do curso)."
      ],
      "metadata": {
        "id": "LvC0dSW0zJpl"
      }
    },
    {
      "cell_type": "code",
      "source": [
        "mais_vistos_subs = mais_vistos[mais_vistos['num_subscribers'] == max(mais_vistos['num_subscribers'])]['course_title'].to_string(index=False)\n",
        "mais_vistos_rate = mais_vistos[mais_vistos['Rating'] == max(mais_vistos['Rating'])].dropna()['course_title'].to_string(index=False) \n",
        "print(f'Dentre estes, (1) {mais_vistos_subs} tem o maior número de inscritos. Enquanto {mais_vistos_rate[:]} tem a melhor avaliação.')\n"
      ],
      "metadata": {
        "colab": {
          "base_uri": "https://localhost:8080/"
        },
        "id": "Ue8ethPZzJKr",
        "outputId": "1634bc20-523d-47b0-d642-92431d7c3a5a"
      },
      "execution_count": 8,
      "outputs": [
        {
          "output_type": "stream",
          "name": "stdout",
          "text": [
            "Dentre estes, (1) Learn HTML5 Programming From Scratch tem o maior número de inscritos. Enquanto Angular 4 (formerly Angular 2) - The Complete G... tem a melhor avaliação.\n"
          ]
        }
      ]
    },
    {
      "cell_type": "markdown",
      "source": [
        "8. Dos cursos listados na base de dados, qual tem maior duração em horas?"
      ],
      "metadata": {
        "id": "SJBiD8wNzR3R"
      }
    },
    {
      "cell_type": "code",
      "source": [
        "maior_duracao = matriz[matriz['content_duration'] == max(matriz['content_duration'])].dropna()['course_title'].to_string(index=False)\n",
        "print(f'O curso com maior duração de horas é: {maior_duracao}')"
      ],
      "metadata": {
        "colab": {
          "base_uri": "https://localhost:8080/"
        },
        "id": "1OP7uCIazWkk",
        "outputId": "8a6b8969-7b31-4ab5-cf35-a527a07e41de"
      },
      "execution_count": 9,
      "outputs": [
        {
          "output_type": "stream",
          "name": "stdout",
          "text": [
            "O curso com maior duração de horas é: The Complete Web Development Course - Build 15 ...\n"
          ]
        }
      ]
    },
    {
      "cell_type": "markdown",
      "source": [
        "9. Dos cursos listados na base de dados, qual tem o maior número de aulas (*lectures*)?"
      ],
      "metadata": {
        "id": "7H8F5_nUzXiT"
      }
    },
    {
      "cell_type": "code",
      "source": [
        "maior_lect = matriz[matriz['num_lectures'] == max(matriz['num_lectures'])].dropna()['course_title'].to_string(index=False)\n",
        "print(f'Dentre estes, o curso com maior número de aulas é {maior_lect}.')"
      ],
      "metadata": {
        "id": "kjTbfYbSzcpe",
        "colab": {
          "base_uri": "https://localhost:8080/"
        },
        "outputId": "85d01e88-2544-48e9-b4a4-d57a0ba7aef0"
      },
      "execution_count": 10,
      "outputs": [
        {
          "output_type": "stream",
          "name": "stdout",
          "text": [
            "Dentre estes, o curso com maior número de aulas é Back to School Web Development and Programming ....\n"
          ]
        }
      ]
    },
    {
      "cell_type": "markdown",
      "source": [
        "10. Apresente o número (contagem) de cursos agrupados por nível (coluna *level*)."
      ],
      "metadata": {
        "id": "iyGWTwPwzm0q"
      }
    },
    {
      "cell_type": "code",
      "source": [
        "matriz.groupby('level').count() "
      ],
      "metadata": {
        "id": "ceYSkGGpzniC",
        "colab": {
          "base_uri": "https://localhost:8080/",
          "height": 305
        },
        "outputId": "58f08774-8bec-4a0e-ee4e-126b4bda1d0d"
      },
      "execution_count": 11,
      "outputs": [
        {
          "output_type": "execute_result",
          "data": {
            "text/plain": [
              "                    course_id  course_title   url  price  num_subscribers  \\\n",
              "level                                                                       \n",
              "All Levels               2532          2532  2532   2532             2532   \n",
              "Beginner Level           1619          1619  1619   1619             1619   \n",
              "Expert Level               89            89    89     89               89   \n",
              "Intermediate Level        536           536   536    536              536   \n",
              "\n",
              "                    num_reviews  num_lectures  Rating  content_duration  \\\n",
              "level                                                                     \n",
              "All Levels                 2532          2532    2532              2532   \n",
              "Beginner Level             1619          1619    1619              1619   \n",
              "Expert Level                 89            89      89                89   \n",
              "Intermediate Level          536           536     536               536   \n",
              "\n",
              "                    published_timestamp  subject  \n",
              "level                                             \n",
              "All Levels                         2532     2532  \n",
              "Beginner Level                     1619     1619  \n",
              "Expert Level                         89       89  \n",
              "Intermediate Level                  536      536  "
            ],
            "text/html": [
              "\n",
              "  <div id=\"df-fc3885b1-5806-4cfe-921e-a925de25c484\">\n",
              "    <div class=\"colab-df-container\">\n",
              "      <div>\n",
              "<style scoped>\n",
              "    .dataframe tbody tr th:only-of-type {\n",
              "        vertical-align: middle;\n",
              "    }\n",
              "\n",
              "    .dataframe tbody tr th {\n",
              "        vertical-align: top;\n",
              "    }\n",
              "\n",
              "    .dataframe thead th {\n",
              "        text-align: right;\n",
              "    }\n",
              "</style>\n",
              "<table border=\"1\" class=\"dataframe\">\n",
              "  <thead>\n",
              "    <tr style=\"text-align: right;\">\n",
              "      <th></th>\n",
              "      <th>course_id</th>\n",
              "      <th>course_title</th>\n",
              "      <th>url</th>\n",
              "      <th>price</th>\n",
              "      <th>num_subscribers</th>\n",
              "      <th>num_reviews</th>\n",
              "      <th>num_lectures</th>\n",
              "      <th>Rating</th>\n",
              "      <th>content_duration</th>\n",
              "      <th>published_timestamp</th>\n",
              "      <th>subject</th>\n",
              "    </tr>\n",
              "    <tr>\n",
              "      <th>level</th>\n",
              "      <th></th>\n",
              "      <th></th>\n",
              "      <th></th>\n",
              "      <th></th>\n",
              "      <th></th>\n",
              "      <th></th>\n",
              "      <th></th>\n",
              "      <th></th>\n",
              "      <th></th>\n",
              "      <th></th>\n",
              "      <th></th>\n",
              "    </tr>\n",
              "  </thead>\n",
              "  <tbody>\n",
              "    <tr>\n",
              "      <th>All Levels</th>\n",
              "      <td>2532</td>\n",
              "      <td>2532</td>\n",
              "      <td>2532</td>\n",
              "      <td>2532</td>\n",
              "      <td>2532</td>\n",
              "      <td>2532</td>\n",
              "      <td>2532</td>\n",
              "      <td>2532</td>\n",
              "      <td>2532</td>\n",
              "      <td>2532</td>\n",
              "      <td>2532</td>\n",
              "    </tr>\n",
              "    <tr>\n",
              "      <th>Beginner Level</th>\n",
              "      <td>1619</td>\n",
              "      <td>1619</td>\n",
              "      <td>1619</td>\n",
              "      <td>1619</td>\n",
              "      <td>1619</td>\n",
              "      <td>1619</td>\n",
              "      <td>1619</td>\n",
              "      <td>1619</td>\n",
              "      <td>1619</td>\n",
              "      <td>1619</td>\n",
              "      <td>1619</td>\n",
              "    </tr>\n",
              "    <tr>\n",
              "      <th>Expert Level</th>\n",
              "      <td>89</td>\n",
              "      <td>89</td>\n",
              "      <td>89</td>\n",
              "      <td>89</td>\n",
              "      <td>89</td>\n",
              "      <td>89</td>\n",
              "      <td>89</td>\n",
              "      <td>89</td>\n",
              "      <td>89</td>\n",
              "      <td>89</td>\n",
              "      <td>89</td>\n",
              "    </tr>\n",
              "    <tr>\n",
              "      <th>Intermediate Level</th>\n",
              "      <td>536</td>\n",
              "      <td>536</td>\n",
              "      <td>536</td>\n",
              "      <td>536</td>\n",
              "      <td>536</td>\n",
              "      <td>536</td>\n",
              "      <td>536</td>\n",
              "      <td>536</td>\n",
              "      <td>536</td>\n",
              "      <td>536</td>\n",
              "      <td>536</td>\n",
              "    </tr>\n",
              "  </tbody>\n",
              "</table>\n",
              "</div>\n",
              "      <button class=\"colab-df-convert\" onclick=\"convertToInteractive('df-fc3885b1-5806-4cfe-921e-a925de25c484')\"\n",
              "              title=\"Convert this dataframe to an interactive table.\"\n",
              "              style=\"display:none;\">\n",
              "        \n",
              "  <svg xmlns=\"http://www.w3.org/2000/svg\" height=\"24px\"viewBox=\"0 0 24 24\"\n",
              "       width=\"24px\">\n",
              "    <path d=\"M0 0h24v24H0V0z\" fill=\"none\"/>\n",
              "    <path d=\"M18.56 5.44l.94 2.06.94-2.06 2.06-.94-2.06-.94-.94-2.06-.94 2.06-2.06.94zm-11 1L8.5 8.5l.94-2.06 2.06-.94-2.06-.94L8.5 2.5l-.94 2.06-2.06.94zm10 10l.94 2.06.94-2.06 2.06-.94-2.06-.94-.94-2.06-.94 2.06-2.06.94z\"/><path d=\"M17.41 7.96l-1.37-1.37c-.4-.4-.92-.59-1.43-.59-.52 0-1.04.2-1.43.59L10.3 9.45l-7.72 7.72c-.78.78-.78 2.05 0 2.83L4 21.41c.39.39.9.59 1.41.59.51 0 1.02-.2 1.41-.59l7.78-7.78 2.81-2.81c.8-.78.8-2.07 0-2.86zM5.41 20L4 18.59l7.72-7.72 1.47 1.35L5.41 20z\"/>\n",
              "  </svg>\n",
              "      </button>\n",
              "      \n",
              "  <style>\n",
              "    .colab-df-container {\n",
              "      display:flex;\n",
              "      flex-wrap:wrap;\n",
              "      gap: 12px;\n",
              "    }\n",
              "\n",
              "    .colab-df-convert {\n",
              "      background-color: #E8F0FE;\n",
              "      border: none;\n",
              "      border-radius: 50%;\n",
              "      cursor: pointer;\n",
              "      display: none;\n",
              "      fill: #1967D2;\n",
              "      height: 32px;\n",
              "      padding: 0 0 0 0;\n",
              "      width: 32px;\n",
              "    }\n",
              "\n",
              "    .colab-df-convert:hover {\n",
              "      background-color: #E2EBFA;\n",
              "      box-shadow: 0px 1px 2px rgba(60, 64, 67, 0.3), 0px 1px 3px 1px rgba(60, 64, 67, 0.15);\n",
              "      fill: #174EA6;\n",
              "    }\n",
              "\n",
              "    [theme=dark] .colab-df-convert {\n",
              "      background-color: #3B4455;\n",
              "      fill: #D2E3FC;\n",
              "    }\n",
              "\n",
              "    [theme=dark] .colab-df-convert:hover {\n",
              "      background-color: #434B5C;\n",
              "      box-shadow: 0px 1px 3px 1px rgba(0, 0, 0, 0.15);\n",
              "      filter: drop-shadow(0px 1px 2px rgba(0, 0, 0, 0.3));\n",
              "      fill: #FFFFFF;\n",
              "    }\n",
              "  </style>\n",
              "\n",
              "      <script>\n",
              "        const buttonEl =\n",
              "          document.querySelector('#df-fc3885b1-5806-4cfe-921e-a925de25c484 button.colab-df-convert');\n",
              "        buttonEl.style.display =\n",
              "          google.colab.kernel.accessAllowed ? 'block' : 'none';\n",
              "\n",
              "        async function convertToInteractive(key) {\n",
              "          const element = document.querySelector('#df-fc3885b1-5806-4cfe-921e-a925de25c484');\n",
              "          const dataTable =\n",
              "            await google.colab.kernel.invokeFunction('convertToInteractive',\n",
              "                                                     [key], {});\n",
              "          if (!dataTable) return;\n",
              "\n",
              "          const docLinkHtml = 'Like what you see? Visit the ' +\n",
              "            '<a target=\"_blank\" href=https://colab.research.google.com/notebooks/data_table.ipynb>data table notebook</a>'\n",
              "            + ' to learn more about interactive tables.';\n",
              "          element.innerHTML = '';\n",
              "          dataTable['output_type'] = 'display_data';\n",
              "          await google.colab.output.renderOutput(dataTable, element);\n",
              "          const docLink = document.createElement('div');\n",
              "          docLink.innerHTML = docLinkHtml;\n",
              "          element.appendChild(docLink);\n",
              "        }\n",
              "      </script>\n",
              "    </div>\n",
              "  </div>\n",
              "  "
            ]
          },
          "metadata": {},
          "execution_count": 11
        }
      ]
    },
    {
      "cell_type": "markdown",
      "source": [
        "11. Quais são os cursos mais recentes contidos na base de dados?"
      ],
      "metadata": {
        "id": "iBt9IGB-ztj7"
      }
    },
    {
      "cell_type": "code",
      "source": [
        "matriz_copy = matriz.copy()\n",
        "matriz_copy['published_timestamp'] = pd.to_datetime(matriz_copy['published_timestamp'], format=\"%Y-%m-%d\")\n",
        "curso_novo = matriz_copy[matriz_copy['published_timestamp'] == matriz_copy['published_timestamp'].max()].dropna().drop_duplicates(keep = 'first')['course_title'].to_string(index=False)\n",
        "print(f'O curso mais recente da plataforma é {curso_novo}')"
      ],
      "metadata": {
        "id": "5cuM-4RZzuUf",
        "colab": {
          "base_uri": "https://localhost:8080/"
        },
        "outputId": "573a0811-093a-4aec-e617-c4138945243b"
      },
      "execution_count": 12,
      "outputs": [
        {
          "output_type": "stream",
          "name": "stdout",
          "text": [
            "O curso mais recente da plataforma é Cryptocurrency (BTC & ETH) Investment & Trading...\n"
          ]
        }
      ]
    },
    {
      "cell_type": "markdown",
      "source": [
        "Por último, foi testada a normalidade dos dados e, em seguida, foi realizado um Modelo Linear Geral para detectar como o preço dos cursos pode estar correlacionado com número de inscritos, número de aulas, nível do curso e assunto."
      ],
      "metadata": {
        "id": "O89mQHKMjE9O"
      }
    },
    {
      "cell_type": "code",
      "execution_count": 13,
      "metadata": {
        "id": "VVGODC6Csuk0",
        "colab": {
          "base_uri": "https://localhost:8080/"
        },
        "outputId": "5db8273d-f037-4b01-c4d4-26ae4d5141ab"
      },
      "outputs": [
        {
          "output_type": "stream",
          "name": "stdout",
          "text": [
            "['course_id']\n",
            "AndersonResult(statistic=422.3166925164951, critical_values=array([0.473, 0.635, 0.755, 0.874, 1.035]), significance_level=array([25. , 10. ,  5. ,  2.5,  1. ]))\n",
            "A hipótese nula pode ser rejeitada a  5.0 % de nível de significância.\n",
            "['course_title']\n",
            "AndersonResult(statistic=422.3166925164951, critical_values=array([0.473, 0.635, 0.755, 0.874, 1.035]), significance_level=array([25. , 10. ,  5. ,  2.5,  1. ]))\n",
            "A hipótese nula pode ser rejeitada a  5.0 % de nível de significância.\n",
            "['url']\n",
            "AndersonResult(statistic=422.3166925164951, critical_values=array([0.473, 0.635, 0.755, 0.874, 1.035]), significance_level=array([25. , 10. ,  5. ,  2.5,  1. ]))\n",
            "A hipótese nula pode ser rejeitada a  5.0 % de nível de significância.\n",
            "['price']\n",
            "AndersonResult(statistic=422.3166925164951, critical_values=array([0.473, 0.635, 0.755, 0.874, 1.035]), significance_level=array([25. , 10. ,  5. ,  2.5,  1. ]))\n",
            "A hipótese nula pode ser rejeitada a  5.0 % de nível de significância.\n",
            "['num_subscribers']\n",
            "AndersonResult(statistic=422.3166925164951, critical_values=array([0.473, 0.635, 0.755, 0.874, 1.035]), significance_level=array([25. , 10. ,  5. ,  2.5,  1. ]))\n",
            "A hipótese nula pode ser rejeitada a  5.0 % de nível de significância.\n",
            "['num_reviews']\n",
            "AndersonResult(statistic=422.3166925164951, critical_values=array([0.473, 0.635, 0.755, 0.874, 1.035]), significance_level=array([25. , 10. ,  5. ,  2.5,  1. ]))\n",
            "A hipótese nula pode ser rejeitada a  5.0 % de nível de significância.\n",
            "['num_lectures']\n",
            "AndersonResult(statistic=422.3166925164951, critical_values=array([0.473, 0.635, 0.755, 0.874, 1.035]), significance_level=array([25. , 10. ,  5. ,  2.5,  1. ]))\n",
            "A hipótese nula pode ser rejeitada a  5.0 % de nível de significância.\n",
            "['level']\n",
            "AndersonResult(statistic=422.3166925164951, critical_values=array([0.473, 0.635, 0.755, 0.874, 1.035]), significance_level=array([25. , 10. ,  5. ,  2.5,  1. ]))\n",
            "A hipótese nula pode ser rejeitada a  5.0 % de nível de significância.\n",
            "['Rating']\n",
            "AndersonResult(statistic=422.3166925164951, critical_values=array([0.473, 0.635, 0.755, 0.874, 1.035]), significance_level=array([25. , 10. ,  5. ,  2.5,  1. ]))\n",
            "A hipótese nula pode ser rejeitada a  5.0 % de nível de significância.\n",
            "['content_duration']\n",
            "AndersonResult(statistic=422.3166925164951, critical_values=array([0.473, 0.635, 0.755, 0.874, 1.035]), significance_level=array([25. , 10. ,  5. ,  2.5,  1. ]))\n",
            "A hipótese nula pode ser rejeitada a  5.0 % de nível de significância.\n",
            "['published_timestamp']\n",
            "AndersonResult(statistic=422.3166925164951, critical_values=array([0.473, 0.635, 0.755, 0.874, 1.035]), significance_level=array([25. , 10. ,  5. ,  2.5,  1. ]))\n",
            "A hipótese nula pode ser rejeitada a  5.0 % de nível de significância.\n",
            "['subject']\n",
            "AndersonResult(statistic=422.3166925164951, critical_values=array([0.473, 0.635, 0.755, 0.874, 1.035]), significance_level=array([25. , 10. ,  5. ,  2.5,  1. ]))\n",
            "A hipótese nula pode ser rejeitada a  5.0 % de nível de significância.\n",
            "                 Generalized Linear Model Regression Results                  \n",
            "==============================================================================\n",
            "Dep. Variable:                  price   No. Observations:                 4776\n",
            "Model:                            GLM   Df Residuals:                     4769\n",
            "Model Family:                 Poisson   Df Model:                            6\n",
            "Link Function:                    log   Scale:                          1.0000\n",
            "Method:                          IRLS   Log-Likelihood:            -1.4059e+05\n",
            "Date:                Fri, 25 Nov 2022   Deviance:                   2.5569e+05\n",
            "Time:                        03:15:22   Pearson chi2:                 2.70e+05\n",
            "No. Iterations:                     5                                         \n",
            "Covariance Type:            nonrobust                                         \n",
            "=======================================================================================================\n",
            "                                          coef    std err          z      P>|z|      [0.025      0.975]\n",
            "-------------------------------------------------------------------------------------------------------\n",
            "Intercept                               4.1181      0.003   1489.599      0.000       4.113       4.123\n",
            "level[T.Beginner Level]                 0.0060      0.004      1.582      0.114      -0.001       0.013\n",
            "level[T.Expert Level]                  -0.0153      0.013     -1.154      0.248      -0.041       0.011\n",
            "level[T.Intermediate Level]            -0.0305      0.006     -5.297      0.000      -0.042      -0.019\n",
            "subject[T.Subject: Web Development]     0.0510      0.004     12.613      0.000       0.043       0.059\n",
            "num_subscribers                     -2.591e-06   2.23e-07    -11.639      0.000   -3.03e-06   -2.16e-06\n",
            "num_lectures                            0.0032   2.05e-05    154.248      0.000       0.003       0.003\n",
            "=======================================================================================================\n"
          ]
        }
      ],
      "source": [
        "from matplotlib import pyplot as plt   \n",
        "from scipy import stats\n",
        "import statsmodels.api as sm\n",
        "import statsmodels.formula.api as smf\n",
        "\n",
        "for i in matriz:\n",
        "  print([i])\n",
        "  a = stats.anderson(matriz['price'].dropna(), dist='gumbel')\n",
        "  print(a)\n",
        "  if a[0] > a[1][2]:\n",
        "    print('A hipótese nula pode ser rejeitada a ', a[2][2], '% de nível de significância.')\n",
        "  else:\n",
        "    print('A hipótese nula não pode ser rejeitada.')\n",
        "\n",
        "\n",
        "formula = 'price ~ num_subscribers + num_lectures + level + subject'\n",
        "model = smf.glm(formula = formula, data=matriz, family=sm.families.Poisson())\n",
        "result = model.fit()\n",
        "print(result.summary())"
      ]
    },
    {
      "cell_type": "markdown",
      "source": [
        "Os resultados mostram correlação positiva (p < 0.05) entre o preço e os cursos de desenvolvimento de Web e número de aulas, indicando que cursos com muitas aulas e curso de Web são os mais caros. Enquanto que cursos de nível intermediário e número de inscritos tiveram uma correlação negativa, indicando que o o número de inscritos é maior em cursos mais baratos e os cursos de nível intermediário também costumam ser mais baratos."
      ],
      "metadata": {
        "id": "Ngk8rPBKqFTy"
      }
    }
  ]
}