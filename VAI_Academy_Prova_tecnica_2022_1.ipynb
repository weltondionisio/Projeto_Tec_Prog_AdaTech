{
  "nbformat": 4,
  "nbformat_minor": 0,
  "metadata": {
    "colab": {
      "provenance": [],
      "include_colab_link": true
    },
    "kernelspec": {
      "name": "python3",
      "display_name": "Python 3"
    },
    "language_info": {
      "name": "python"
    }
  },
  "cells": [
    {
      "cell_type": "markdown",
      "metadata": {
        "id": "view-in-github",
        "colab_type": "text"
      },
      "source": [
        "<a href=\"https://colab.research.google.com/github/weltondionisio/Projetos_de_programacao_em_Python/blob/main/VAI_Academy_Prova_tecnica_2022_1.ipynb\" target=\"_parent\"><img src=\"https://colab.research.google.com/assets/colab-badge.svg\" alt=\"Open In Colab\"/></a>"
      ]
    },
    {
      "cell_type": "markdown",
      "source": [
        "# <center>Seleção VAI Academy 2022.1</center>\n",
        "# <center> Prova Técnica </center>\n",
        "___"
      ],
      "metadata": {
        "id": "ABXI6x3WOpOe"
      }
    },
    {
      "cell_type": "code",
      "source": [
        "from google.colab import drive\n",
        "drive.mount('/content/drive')"
      ],
      "metadata": {
        "colab": {
          "base_uri": "https://localhost:8080/"
        },
        "id": "z6Eq2Wt_j52F",
        "outputId": "5cf45429-0a47-4d85-ce79-2c9f630b3017"
      },
      "execution_count": null,
      "outputs": [
        {
          "output_type": "stream",
          "name": "stdout",
          "text": [
            "Mounted at /content/drive\n"
          ]
        }
      ]
    },
    {
      "cell_type": "markdown",
      "source": [
        "### Questão 1\n",
        "*Favor utilizar o **cabeçalho fornecido** na célula de código para construção da função. Você pode criar outras células de código para testar seu algoritmo.*<br><br>\n",
        "\n",
        "Escreva o corpo da função `questao1_is_palindrome(text)` em Python, que determine se um texto é palíndromo. Segundo o *Wikipedia*:\n",
        "\n",
        "> *Palíndromo é uma palavra, frase ou número que permanece igual quando lida de trás para diante. Por extensão, palíndromo é qualquer série de elementos com simetria linear, ou seja, que apresenta a mesma sequência de unidades nos dois sentidos.*\n",
        "\n",
        "Exemplos de retorno da função:\n",
        "\n",
        "```\n",
        "# questao1_is_palindrome(\"a\") = True\n",
        "# questao1_is_palindrome(\"aba\") = True\n",
        "# questao1_is_palindrome(\"abc\") = False\n",
        "# questao1_is_palindrome(\"socorrammesubinoonibusemmarrocos\") = True\n",
        "# questao1_is_palindrome(\"palindrome\") = False\n",
        "```\n",
        "\n"
      ],
      "metadata": {
        "id": "gulQXi55aS0P"
      }
    },
    {
      "cell_type": "code",
      "source": [
        "def questao1_is_palindrome(text):\n",
        "  '''Função que checa se um texto é palíndromo.'''\n",
        "  if text == text[::-1]:\n",
        "    return True\n",
        "  else:\n",
        "    return False"
      ],
      "metadata": {
        "id": "enYZ-EBN7v0T"
      },
      "execution_count": null,
      "outputs": []
    },
    {
      "cell_type": "markdown",
      "source": [
        "---\n",
        "\n",
        "### Questão 2\n",
        "*Favor preencher o conteúdo da variável **resposta_questao2** com a **letra** correspondente à alternativa desejada. Você pode criar outras células de código para resolver o exercício.*<br><br>\n",
        "\n",
        "**Para esta questão, utilizaremos a base de dados fornecida junto ao notebook. Realize a importação da base pelo Pandas para conseguir responder as perguntas.**<br><br>\n",
        "\n",
        "A base de dados em questão nos traz algumas características dos Pokémons das 6 primeiras gerações, como Nome, Tipo 1 e Tipo 2 (alguns Pokémons possuem dois tipos distintos, por isso o uso de duas colunas), HP, Força de Ataque, entre outros. Quantos Pokémons possuem **apenas um tipo**?<br> \n",
        "\n",
        "A) 391\n",
        "\n",
        "B) 386\n",
        "\n",
        "C) 312\n",
        "\n",
        "D) 327"
      ],
      "metadata": {
        "id": "OSaHLiEP2plf"
      }
    },
    {
      "cell_type": "code",
      "source": [
        "import pandas as pd\n",
        "pkm = pd.read_csv('/content/drive/MyDrive/provaimersao/pokemon.csv', sep=',')\n",
        "pkm.info()\n",
        "800-414"
      ],
      "metadata": {
        "colab": {
          "base_uri": "https://localhost:8080/"
        },
        "outputId": "2daccb87-2e76-4226-b045-42da32025922",
        "id": "DDVQXuSvQpkT"
      },
      "execution_count": null,
      "outputs": [
        {
          "output_type": "stream",
          "name": "stdout",
          "text": [
            "<class 'pandas.core.frame.DataFrame'>\n",
            "RangeIndex: 800 entries, 0 to 799\n",
            "Data columns (total 13 columns):\n",
            " #   Column      Non-Null Count  Dtype \n",
            "---  ------      --------------  ----- \n",
            " 0   #           800 non-null    int64 \n",
            " 1   Name        800 non-null    object\n",
            " 2   Type 1      800 non-null    object\n",
            " 3   Type 2      414 non-null    object\n",
            " 4   Total       800 non-null    int64 \n",
            " 5   HP          800 non-null    int64 \n",
            " 6   Attack      800 non-null    int64 \n",
            " 7   Defense     800 non-null    int64 \n",
            " 8   Sp. Atk     800 non-null    int64 \n",
            " 9   Sp. Def     800 non-null    int64 \n",
            " 10  Speed       800 non-null    int64 \n",
            " 11  Generation  800 non-null    int64 \n",
            " 12  Legendary   800 non-null    bool  \n",
            "dtypes: bool(1), int64(9), object(3)\n",
            "memory usage: 75.9+ KB\n"
          ]
        },
        {
          "output_type": "execute_result",
          "data": {
            "text/plain": [
              "386"
            ]
          },
          "metadata": {},
          "execution_count": 118
        }
      ]
    },
    {
      "cell_type": "code",
      "source": [
        "resposta_questao2 = 'B' "
      ],
      "metadata": {
        "id": "zr0QnQgl2ozU"
      },
      "execution_count": null,
      "outputs": []
    },
    {
      "cell_type": "markdown",
      "source": [
        "---\n",
        "*Favor preencher o conteúdo da variável **resposta_questao3** com a **letra** correspondente à alternativa desejada. Você pode criar outras células de código para resolver o exercício.*<br><br>\n",
        "### Questão 3\n",
        "Os Pokémons do tipo Pedra (**Rock**) são conhecidos por serem mais resistentes, e terem status mais altos de defesa. Para ser considerado um Pokémon do tipo Pedra, é necessário que apenas um dos seus tipos (**Type 1** ou **Type 2**) seja Pedra. Qual é a média de defesa de Pokémons do tipo Pedra (arredondada para o inteiro mais próximo)?<br> \n",
        "\n",
        "A) 93\n",
        "\n",
        "B) 110\n",
        "\n",
        "C) 131\n",
        "\n",
        "D) 107"
      ],
      "metadata": {
        "id": "2vK-DiHk3HZh"
      }
    },
    {
      "cell_type": "code",
      "source": [
        "pkm.rename(columns={'Type 1':'Type_1', 'Type 2':'Type_2'}, inplace = True)\n",
        "pkm[(pkm.Type_1 == 'Rock')|(pkm.Type_2 == 'Rock')].Defense.mean()"
      ],
      "metadata": {
        "colab": {
          "base_uri": "https://localhost:8080/"
        },
        "id": "nGhcMcLQTpKw",
        "outputId": "40b0e93f-e0a4-499e-a818-27c7816ec9b7"
      },
      "execution_count": null,
      "outputs": [
        {
          "output_type": "execute_result",
          "data": {
            "text/plain": [
              "107.08620689655173"
            ]
          },
          "metadata": {},
          "execution_count": 120
        }
      ]
    },
    {
      "cell_type": "code",
      "source": [
        "resposta_questao3 = 'D'"
      ],
      "metadata": {
        "id": "3pmJgY453Gp-"
      },
      "execution_count": null,
      "outputs": []
    },
    {
      "cell_type": "markdown",
      "source": [
        "---\n",
        "*Favor preencher o conteúdo da variável **resposta_questao4** com a **letra** correspondente à alternativa desejada. Você pode criar outras células de código para resolver o exercício.*<br><br>\n",
        "### Questão 4\n",
        "Pokémons lendários (**Legendary**) são um grupo de Pokémons incrivelmente raros e poderosos. Comumente estão associados à lendas e mitos do mundo Pokémon. Quantos Pokemons lendários existem em cada geração? (1ª a 6ª)<br>\n",
        "\n",
        "A) 6, 5, 18, 13, 15, 8\n",
        "\n",
        "B) 6, 5, 15, 14, 16, 10\n",
        "\n",
        "C) 7, 5, 18, 11, 10, 9\n",
        "\n",
        "D) 5, 5, 15, 14, 17, 8"
      ],
      "metadata": {
        "id": "7-2Qx9va38Bh"
      }
    },
    {
      "cell_type": "code",
      "source": [
        "pkm.groupby('Generation').Legendary.sum()"
      ],
      "metadata": {
        "colab": {
          "base_uri": "https://localhost:8080/"
        },
        "id": "I4DUq5fJZ1go",
        "outputId": "63bdcf72-f051-46be-e3d3-b5dd79eaaf74"
      },
      "execution_count": null,
      "outputs": [
        {
          "output_type": "execute_result",
          "data": {
            "text/plain": [
              "Generation\n",
              "1     6\n",
              "2     5\n",
              "3    18\n",
              "4    13\n",
              "5    15\n",
              "6     8\n",
              "Name: Legendary, dtype: int64"
            ]
          },
          "metadata": {},
          "execution_count": 122
        }
      ]
    },
    {
      "cell_type": "code",
      "source": [
        "resposta_questao4 = 'A'"
      ],
      "metadata": {
        "id": "HMDQEzi92jXj"
      },
      "execution_count": null,
      "outputs": []
    },
    {
      "cell_type": "markdown",
      "source": [
        "---\n",
        "*Favor preencher o conteúdo da variável **resposta_questao5** com a **letra** correspondente à alternativa desejada. Você pode criar outras células de código para resolver o exercício.*<br><br>\n",
        "### Questão 5\n",
        "Alguns Pokémons possuem uma versão Mega, uma transformação temporária que afeta e melhora alguns de seus status. Pokémons que possuem esta transformação podem ser identificados por possuir a palavra **Mega** como parte de seu nome. Qual é a média de ataque dos Pokémons comuns e dos Pokémons Mega, respectivamente (arredondados para o inteiro mais próximo)?\n",
        "\n",
        "**Dica:** Meganium e Yanmega não são Pokémons Mega.\n",
        "\n",
        "A) 76, 126\n",
        "\n",
        "B) 89, 130\n",
        "\n",
        "C) 75, 127\n",
        "\n",
        "D) 71, 145"
      ],
      "metadata": {
        "id": "rDV9ZAWZ5hJ8"
      }
    },
    {
      "cell_type": "code",
      "source": [
        "def mega_evo(pokm):\n",
        "  '''Função que checa se um Pokémon é Mega Evolução.'''\n",
        "  if 'Mega ' in pokm:\n",
        "        return True\n",
        "  else:\n",
        "        return False\n",
        "pkm['Mega'] = pkm.apply(lambda row: mega_evo(row['Name']), axis=1)\n",
        "pkm.groupby('Mega')[['Attack']].mean()"
      ],
      "metadata": {
        "colab": {
          "base_uri": "https://localhost:8080/",
          "height": 143
        },
        "id": "SxeHRCguksh-",
        "outputId": "37542bca-f18e-469f-92a0-c3241014aea7"
      },
      "execution_count": null,
      "outputs": [
        {
          "output_type": "execute_result",
          "data": {
            "text/plain": [
              "           Attack\n",
              "Mega             \n",
              "False   75.986702\n",
              "True   126.229167"
            ],
            "text/html": [
              "\n",
              "  <div id=\"df-677b3aa5-5e84-4d55-9127-efc6785e6e7a\">\n",
              "    <div class=\"colab-df-container\">\n",
              "      <div>\n",
              "<style scoped>\n",
              "    .dataframe tbody tr th:only-of-type {\n",
              "        vertical-align: middle;\n",
              "    }\n",
              "\n",
              "    .dataframe tbody tr th {\n",
              "        vertical-align: top;\n",
              "    }\n",
              "\n",
              "    .dataframe thead th {\n",
              "        text-align: right;\n",
              "    }\n",
              "</style>\n",
              "<table border=\"1\" class=\"dataframe\">\n",
              "  <thead>\n",
              "    <tr style=\"text-align: right;\">\n",
              "      <th></th>\n",
              "      <th>Attack</th>\n",
              "    </tr>\n",
              "    <tr>\n",
              "      <th>Mega</th>\n",
              "      <th></th>\n",
              "    </tr>\n",
              "  </thead>\n",
              "  <tbody>\n",
              "    <tr>\n",
              "      <th>False</th>\n",
              "      <td>75.986702</td>\n",
              "    </tr>\n",
              "    <tr>\n",
              "      <th>True</th>\n",
              "      <td>126.229167</td>\n",
              "    </tr>\n",
              "  </tbody>\n",
              "</table>\n",
              "</div>\n",
              "      <button class=\"colab-df-convert\" onclick=\"convertToInteractive('df-677b3aa5-5e84-4d55-9127-efc6785e6e7a')\"\n",
              "              title=\"Convert this dataframe to an interactive table.\"\n",
              "              style=\"display:none;\">\n",
              "        \n",
              "  <svg xmlns=\"http://www.w3.org/2000/svg\" height=\"24px\"viewBox=\"0 0 24 24\"\n",
              "       width=\"24px\">\n",
              "    <path d=\"M0 0h24v24H0V0z\" fill=\"none\"/>\n",
              "    <path d=\"M18.56 5.44l.94 2.06.94-2.06 2.06-.94-2.06-.94-.94-2.06-.94 2.06-2.06.94zm-11 1L8.5 8.5l.94-2.06 2.06-.94-2.06-.94L8.5 2.5l-.94 2.06-2.06.94zm10 10l.94 2.06.94-2.06 2.06-.94-2.06-.94-.94-2.06-.94 2.06-2.06.94z\"/><path d=\"M17.41 7.96l-1.37-1.37c-.4-.4-.92-.59-1.43-.59-.52 0-1.04.2-1.43.59L10.3 9.45l-7.72 7.72c-.78.78-.78 2.05 0 2.83L4 21.41c.39.39.9.59 1.41.59.51 0 1.02-.2 1.41-.59l7.78-7.78 2.81-2.81c.8-.78.8-2.07 0-2.86zM5.41 20L4 18.59l7.72-7.72 1.47 1.35L5.41 20z\"/>\n",
              "  </svg>\n",
              "      </button>\n",
              "      \n",
              "  <style>\n",
              "    .colab-df-container {\n",
              "      display:flex;\n",
              "      flex-wrap:wrap;\n",
              "      gap: 12px;\n",
              "    }\n",
              "\n",
              "    .colab-df-convert {\n",
              "      background-color: #E8F0FE;\n",
              "      border: none;\n",
              "      border-radius: 50%;\n",
              "      cursor: pointer;\n",
              "      display: none;\n",
              "      fill: #1967D2;\n",
              "      height: 32px;\n",
              "      padding: 0 0 0 0;\n",
              "      width: 32px;\n",
              "    }\n",
              "\n",
              "    .colab-df-convert:hover {\n",
              "      background-color: #E2EBFA;\n",
              "      box-shadow: 0px 1px 2px rgba(60, 64, 67, 0.3), 0px 1px 3px 1px rgba(60, 64, 67, 0.15);\n",
              "      fill: #174EA6;\n",
              "    }\n",
              "\n",
              "    [theme=dark] .colab-df-convert {\n",
              "      background-color: #3B4455;\n",
              "      fill: #D2E3FC;\n",
              "    }\n",
              "\n",
              "    [theme=dark] .colab-df-convert:hover {\n",
              "      background-color: #434B5C;\n",
              "      box-shadow: 0px 1px 3px 1px rgba(0, 0, 0, 0.15);\n",
              "      filter: drop-shadow(0px 1px 2px rgba(0, 0, 0, 0.3));\n",
              "      fill: #FFFFFF;\n",
              "    }\n",
              "  </style>\n",
              "\n",
              "      <script>\n",
              "        const buttonEl =\n",
              "          document.querySelector('#df-677b3aa5-5e84-4d55-9127-efc6785e6e7a button.colab-df-convert');\n",
              "        buttonEl.style.display =\n",
              "          google.colab.kernel.accessAllowed ? 'block' : 'none';\n",
              "\n",
              "        async function convertToInteractive(key) {\n",
              "          const element = document.querySelector('#df-677b3aa5-5e84-4d55-9127-efc6785e6e7a');\n",
              "          const dataTable =\n",
              "            await google.colab.kernel.invokeFunction('convertToInteractive',\n",
              "                                                     [key], {});\n",
              "          if (!dataTable) return;\n",
              "\n",
              "          const docLinkHtml = 'Like what you see? Visit the ' +\n",
              "            '<a target=\"_blank\" href=https://colab.research.google.com/notebooks/data_table.ipynb>data table notebook</a>'\n",
              "            + ' to learn more about interactive tables.';\n",
              "          element.innerHTML = '';\n",
              "          dataTable['output_type'] = 'display_data';\n",
              "          await google.colab.output.renderOutput(dataTable, element);\n",
              "          const docLink = document.createElement('div');\n",
              "          docLink.innerHTML = docLinkHtml;\n",
              "          element.appendChild(docLink);\n",
              "        }\n",
              "      </script>\n",
              "    </div>\n",
              "  </div>\n",
              "  "
            ]
          },
          "metadata": {},
          "execution_count": 124
        }
      ]
    },
    {
      "cell_type": "code",
      "source": [
        "resposta_questao5 = 'A'"
      ],
      "metadata": {
        "id": "G_mUsi0C4Vjy"
      },
      "execution_count": null,
      "outputs": []
    },
    {
      "cell_type": "markdown",
      "source": [
        "---\n",
        "*Favor preencher o conteúdo da variável **resposta_questao6** com o **valor** correspondente à sua resposta. Você pode criar outras células de código para resolver o exercício.*<br><br>\n",
        "### Questão 6\n",
        "Considere que temos tuplas contendo registros passagens de ônibus. As tuplas são organizadas de forma que os elementos estão sempre nessa ordem:\n",
        "* Cidade de Origem (ex. 'São Paulo', 'Belo Horizonte')\n",
        "* Cidade de Destino\n",
        "* Dia da Viagem\n",
        "* Mês da Viagem\n",
        "* Valor pago pelo trecho\n",
        "\n",
        "Dada a lista ```lista_questao6``` contendo tuplas do tipo acima. Calcule o valor médio pago pelos trechos entre todos os passageiros.\n"
      ],
      "metadata": {
        "id": "W3D6MyyTFTRI"
      }
    },
    {
      "cell_type": "code",
      "source": [
        "questao6_lista = [('Campinas', 'São Paulo', 12, 9, 24.0),\n",
        "      ('São Paulo', 'Rio de Janeiro', 20, 5, 44.0),\n",
        "      ('Bauru', 'Campinas', 22, 2, 39.0),\n",
        "      ('Jundiaí', 'São Paulo', 26, 5, 14.0),\n",
        "      ('Limeira', 'São Carlos', 10, 8, 8.0),\n",
        "      ('Rio de Janeiro', 'Belo Horizonte', 7, 12, 59.0),\n",
        "      ('Porto Alegre', 'Curitiba', 21, 11, 39.0),\n",
        "      ('São Paulo', 'Rio de Janeiro', 15, 2, 44.0),\n",
        "      ('São Carlos', 'São Paulo', 27, 9, 69.0),\n",
        "      ('Porto Alegre', 'Rio de Janeiro', 2, 4, 114.0),\n",
        "      ('Salvador', 'Itabuna', 15, 12, 26.0),\n",
        "      ('Parintins', 'Manaus', 6, 12, 26.0),\n",
        "      ('Joinville', 'Florianópolis', 17, 10, 20.0),\n",
        "      ('São Paulo', 'Belo Horizonte', 16, 9, 120.0),\n",
        "      ('São Paulo', 'Porto Alegre', 1, 11, 89.0)]"
      ],
      "metadata": {
        "id": "inkimHESFXgO"
      },
      "execution_count": null,
      "outputs": []
    },
    {
      "cell_type": "code",
      "source": [
        "import numpy as np\n",
        "arr = np.array(questao6_lista)\n",
        "arr2 = arr[:, 4].astype(float)\n",
        "np.mean(arr2)"
      ],
      "metadata": {
        "colab": {
          "base_uri": "https://localhost:8080/"
        },
        "id": "Q9-D4W-vnRxP",
        "outputId": "5f413246-2dc3-4532-b74c-98f0178aeb51"
      },
      "execution_count": null,
      "outputs": [
        {
          "output_type": "execute_result",
          "data": {
            "text/plain": [
              "49.0"
            ]
          },
          "metadata": {},
          "execution_count": 127
        }
      ]
    },
    {
      "cell_type": "code",
      "source": [
        "resposta_questao6 = 49"
      ],
      "metadata": {
        "id": "__Nsxu_qFZQN"
      },
      "execution_count": null,
      "outputs": []
    },
    {
      "cell_type": "markdown",
      "source": [
        "---\n",
        "*Favor preencher o conteúdo da variável **resposta_questao7** com o **valor** correspondente à sua resposta. Você pode criar outras células de código para resolver o exercício.*<br><br>\n",
        "### Questão 7\n",
        "Considere a mesma lista anteriormente utilizada. Calcule quantas passagens possuem como origem as cidades 'São Paulo' ou 'Porto Alegre' e são referentes ao mês de março ou posterior?"
      ],
      "metadata": {
        "id": "MIStNRVgFbSU"
      }
    },
    {
      "cell_type": "code",
      "source": [
        "df = pd.DataFrame(questao6_lista)\n",
        "df2 = pd.DataFrame(np.array(questao6_lista), columns=['Origem', 'Destino', 'Dia', 'Mês', \"Preço\"]) \n",
        "df2[(df2.Mês != '1')&(df2.Mês != '2')&(df2.Origem == 'São Paulo')|(df2.Origem == 'Porto Alegre')].count()"
      ],
      "metadata": {
        "colab": {
          "base_uri": "https://localhost:8080/"
        },
        "id": "IVxkE2vz9CZ6",
        "outputId": "a163f7fc-d782-4301-8977-884e661e37f2"
      },
      "execution_count": null,
      "outputs": [
        {
          "output_type": "execute_result",
          "data": {
            "text/plain": [
              "Origem     5\n",
              "Destino    5\n",
              "Dia        5\n",
              "Mês        5\n",
              "Preço      5\n",
              "dtype: int64"
            ]
          },
          "metadata": {},
          "execution_count": 72
        }
      ]
    },
    {
      "cell_type": "code",
      "source": [
        "resposta_questao7 = 5"
      ],
      "metadata": {
        "id": "8f9KhWq6FcB7"
      },
      "execution_count": null,
      "outputs": []
    },
    {
      "cell_type": "markdown",
      "source": [
        "---\n",
        "*Favor preencher o conteúdo da variável **resposta_questao8** com o **valor** correspondente à sua resposta. Você pode criar outras células de código para resolver o exercício.*<br><br>\n",
        "### Questão 8\n",
        "Considerando ainda a mesma lista de tuplas anterior, crie uma nova lista contendo strings constituídas pelo dia e mês da passagem no formato: `dd/mm`. Exemplo: uma passagem referente ao dia 15 de fevereiro terá como resultado `'15/2'`\n",
        "\n",
        "A seguir, Calcule quantas dessas strings possuem tamanho maior do que 4."
      ],
      "metadata": {
        "id": "uA683LD4Fdd5"
      }
    },
    {
      "cell_type": "code",
      "source": [
        "dia = list(df2.Dia)\n",
        "mes = list(df2.Mês)\n",
        "#dt2 = pd.DataFrame({'dia': df2.Dia})\n",
        "#dt3 = pd.DataFrame({'mes': df2.Mês})\n",
        "\n",
        "type(mes)\n",
        "list1 = (dia,mes)\n",
        "print(list1)"
      ],
      "metadata": {
        "colab": {
          "base_uri": "https://localhost:8080/"
        },
        "id": "pM-FBCdUhSS8",
        "outputId": "b8e736e5-3c88-478f-8b52-7b6ec1341325"
      },
      "execution_count": null,
      "outputs": [
        {
          "output_type": "stream",
          "name": "stdout",
          "text": [
            "(['12', '20', '22', '26', '10', '7', '21', '15', '27', '2', '15', '6', '17', '16', '1'], ['9', '5', '2', '5', '8', '12', '11', '2', '9', '4', '12', '12', '10', '9', '11'])\n"
          ]
        }
      ]
    },
    {
      "cell_type": "code",
      "source": [
        "resposta_questao8 = 3"
      ],
      "metadata": {
        "id": "9iCbkDbgFfEu"
      },
      "execution_count": null,
      "outputs": []
    },
    {
      "cell_type": "markdown",
      "source": [
        "---\n",
        "*Favor preencher o conteúdo da variável **resposta_questao9** com o **valor** correspondente à sua resposta. Você pode criar outras células de código para resolver o exercício.*<br><br>\n",
        "### Questão 9\n",
        "Considere a estrutura abaixo que contém notas de duas turmas (História e Geografia), para diferentes anos. Calcule e armazene a média das notas da turma de História em 2021 e da turma de Geografia em 2020. Qual é a diferença absoluta entre essas médias?\n"
      ],
      "metadata": {
        "id": "2zFmMT1tn9Np"
      }
    },
    {
      "cell_type": "code",
      "source": [
        "questao9_notas = {\n",
        "    'História': { 2020: [[9.0, 7.0, 6.5, 4.0, 10.0, 6.5, 8.5]],\n",
        "                2021: [[8.0, 8.0, 9.5, 3.0, 6.5, 7.5, 10.0, 8.5]] },\n",
        "    'Geografia': {  2018: [[10.0, 8.0, 7.5, 2.0, 5.0, 7.0, 9.5, 5.0]],\n",
        "                        2019: [[8.0, 10.0, 10.0, 0.0, 6.0, 6.5, 6.5, 9.5]],\n",
        "                       2020: [[9.5, 7.2, 6.0, 8.5, 3.3, 8.5, 8.0, 6.5]],\n",
        "                       2021: [[5.0, 7.0, 5.5, 7.5, 6.5, 7.0, 5.5, 9.5]] }\n",
        "}"
      ],
      "metadata": {
        "id": "ywHalYb1n_Gv"
      },
      "execution_count": null,
      "outputs": []
    },
    {
      "cell_type": "code",
      "source": [
        "f = questao9_notas.get('História') \n",
        "g = f.get(2021)\n",
        "gl=list(g)\n",
        "print(gl, type(gl))\n",
        "\n",
        "h = questao9_notas.get('Geografia') \n",
        "i = h.get(2020)\n",
        "il=list(i)\n",
        "print(il, type(il))\n",
        "\n",
        "media9 = np.array(gl)\n",
        "media9_2 = media9[::].astype(float)\n",
        "print(np.mean(media9_2))\n",
        "\n",
        "media99 = np.array(il)\n",
        "media99_2 = media99[::].astype(float)\n",
        "print(np.mean(media99_2))\n",
        "\n",
        "print('A diferença absoluta é: ', (np.mean(media9_2))-(np.mean(media99_2)))"
      ],
      "metadata": {
        "colab": {
          "base_uri": "https://localhost:8080/"
        },
        "id": "1sRnH0ICIhti",
        "outputId": "e20bf3e9-fb3c-4348-9aa6-db09689b0a33"
      },
      "execution_count": null,
      "outputs": [
        {
          "output_type": "stream",
          "name": "stdout",
          "text": [
            "[[8.0, 8.0, 9.5, 3.0, 6.5, 7.5, 10.0, 8.5]] <class 'list'>\n",
            "[[9.5, 7.2, 6.0, 8.5, 3.3, 8.5, 8.0, 6.5]] <class 'list'>\n",
            "7.625\n",
            "7.1875\n",
            "A diferença absoluta é:  0.4375\n"
          ]
        }
      ]
    },
    {
      "cell_type": "code",
      "source": [
        "resposta_questao9 = 0.4375"
      ],
      "metadata": {
        "id": "aMt_HPOZoBEh"
      },
      "execution_count": null,
      "outputs": []
    },
    {
      "cell_type": "markdown",
      "source": [
        "---\n",
        "*Favor preencher o conteúdo da variável **resposta_questao10** com o **valor** correspondente à sua resposta. Você pode criar outras células de código para resolver o exercício.*<br><br>\n",
        "### Questão 10\n",
        "\n",
        "Crie as seguintes listas:\n",
        "\n",
        "   - lista `a` - contendo quadrados dos números `(número**2)` entre -50 e 50 (inclusive);\n",
        "    \n",
        "   - lista `b` - contendo cubos dos números `(número**3)` entre -25 e 25 (inclusive)\n",
        "    \n",
        "Em seguida, crie uma lista `resultado` que contenha os elementos da lista 2 com exceção dos elementos que estão presentes na lista 1.\n",
        "\n",
        "Quantos elementos possui a lista `resultado`?"
      ],
      "metadata": {
        "id": "RWg0tk5boCBB"
      }
    },
    {
      "cell_type": "code",
      "source": [
        "a = list(range(-50, 51))\n",
        "b = list(range(-25, 26))\n",
        "def power2(my_list):\n",
        "    return [ x**2 for x in my_list ]\n",
        "def power3(my_list):\n",
        "    return [ x**3 for x in my_list ]\n",
        "a2=power2(a)\n",
        "b3=power3(b)\n",
        "resultado = list(set(b3) - set(a2))\n",
        "print(len(resultado))"
      ],
      "metadata": {
        "colab": {
          "base_uri": "https://localhost:8080/"
        },
        "id": "k-phdsO_XqtM",
        "outputId": "3c688d37-4036-4280-d9b5-ebb7438298c3"
      },
      "execution_count": null,
      "outputs": [
        {
          "output_type": "stream",
          "name": "stdout",
          "text": [
            "47\n"
          ]
        }
      ]
    },
    {
      "cell_type": "code",
      "source": [
        "resposta_questao10 = 47"
      ],
      "metadata": {
        "id": "aEMcVLTEoEkv"
      },
      "execution_count": null,
      "outputs": []
    },
    {
      "cell_type": "markdown",
      "source": [
        "---\n",
        "*Favor preencher o conteúdo da variável **resposta_questao11** com a **letra** correspondente à alternativa desejada. Você pode criar outras células de código para resolver o exercício.*<br><br>\n",
        "### Questão 11\n",
        "\n",
        "Suponha a afirmação: \"**95% das cobras no mundo possuem comprimento inferior à média**\". Qual poderia ser uma possível conclusão?\n",
        "\n",
        "A) A afirmação é falsa pois é impossível a média ser superior a 95% do valor das observações.\n",
        "\n",
        "B) Isso só seria possível em uma distribuição Gaussiana com elevado desvio padrão.\n",
        "\n",
        "C) Certamente mais da metade das cobras no mundo são consideradas outliers.\n",
        "\n",
        "D) Existem algumas cobras com comprimento extraordinariamente grande.\n",
        "\n",
        "E) Existem mais observações abaixo do primeiro quartil do que acima do terceiro quartil."
      ],
      "metadata": {
        "id": "_erLgPPGkNIQ"
      }
    },
    {
      "cell_type": "code",
      "source": [
        "resposta_questao11 = 'D'"
      ],
      "metadata": {
        "id": "OnSu0WczkocJ"
      },
      "execution_count": null,
      "outputs": []
    },
    {
      "cell_type": "markdown",
      "source": [
        "---\n",
        "*Favor preencher o conteúdo da variável **resposta_questao12** com a **letra** correspondente à alternativa desejada. Você pode criar outras células de código para resolver o exercício.*<br><br>\n",
        "### Questão 12\n",
        "\n",
        "O gráfico abaixo mostra a renda de uma amostra de jovens recém-formados. Qual alternativa é verdadeira sobre a distribuição?\n",
        "\n",
        "![Imagem1.jpg](data:image/jpeg;base64,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)\n",
        "\n",
        "Fonte: http://www.statistics.com/\n",
        "\n",
        "A) A média é menor do que a mediana.\n",
        "\n",
        "B) A média é maior do que a mediana.\n",
        "\n",
        "C) A média é igual à mediana.\n",
        "\n",
        "D) Não podemos dizer sem calcular as medidas reais."
      ],
      "metadata": {
        "id": "EdKj0aYRko-n"
      }
    },
    {
      "cell_type": "code",
      "source": [
        "resposta_questao12 = 'B'"
      ],
      "metadata": {
        "id": "pFnqREQblcbf"
      },
      "execution_count": null,
      "outputs": []
    },
    {
      "cell_type": "markdown",
      "source": [
        "---\n",
        "Utilize a célula abaixo para submeter sua avaliação. Favor informar o seu **token** único, fornecido pela equipe VAI Academy, e executar o código abaixo."
      ],
      "metadata": {
        "id": "amZa5rxpTPe3"
      }
    },
    {
      "cell_type": "code",
      "source": [
        "# LEMBRE-SE DE SALVAR O NOTEBOOK ANTES DE EXECUTAR ESSA CÉLULA\n",
        "token = '5e220ce1-955f-44fb-ba11-584493d767d6' # seu token aqui\n",
        "\n",
        "# NÃO ALTERE O CÓDIGO ABAIXO\n",
        "\n",
        "import pickle\n",
        "import requests as req\n",
        "resposta_questao1 = [questao1_is_palindrome(x) for x in pickle.loads(b'\\x80\\x03]q\\x00(X\\x01\\x00\\x00\\x00aq\\x01X\\x03\\x00\\x00\\x00abaq\\x02X\\x03\\x00\\x00\\x00abcq\\x03X \\x00\\x00\\x00socorrammesubinoonibusemmarrocosq\\x04X\\n\\x00\\x00\\x00palindromeq\\x05X\\x05\\x00\\x00\\x00araraq\\x06X\\x03\\x00\\x00\\x00araq\\x07X\\x08\\x00\\x00\\x00blueiulbq\\x08X\\x0b\\x00\\x00\\x00abracadabraq\\tX\\t\\x00\\x00\\x00abracarbaq\\nX\\t\\x00\\x00\\x00abracarboq\\x0bX\\x04\\x00\\x00\\x001001q\\x0cX\\x02\\x00\\x00\\x0025q\\rX\\x01\\x00\\x00\\x001q\\x0eX\\x07\\x00\\x00\\x001010101q\\x0fe.')]\n",
        "exec(req.get('https://api.vai.academy/submissioncode2').text)"
      ],
      "metadata": {
        "id": "U49GkFQdTYk4",
        "colab": {
          "base_uri": "https://localhost:8080/"
        },
        "outputId": "5e060796-50fa-4e14-8cc5-efbb556cee60"
      },
      "execution_count": null,
      "outputs": [
        {
          "output_type": "stream",
          "name": "stderr",
          "text": [
            "WARNING:googleapiclient.discovery_cache:file_cache is unavailable when using oauth2client >= 4.0.0 or google-auth\n",
            "Traceback (most recent call last):\n",
            "  File \"/usr/local/lib/python3.7/dist-packages/pydrive/files.py\", line 134, in __getitem__\n",
            "    return dict.__getitem__(self, key)\n",
            "KeyError: 'title'\n",
            "\n",
            "During handling of the above exception, another exception occurred:\n",
            "\n",
            "Traceback (most recent call last):\n",
            "  File \"/usr/local/lib/python3.7/dist-packages/googleapiclient/discovery_cache/file_cache.py\", line 33, in <module>\n",
            "    from oauth2client.contrib.locked_file import LockedFile\n",
            "ModuleNotFoundError: No module named 'oauth2client.contrib.locked_file'\n",
            "\n",
            "During handling of the above exception, another exception occurred:\n",
            "\n",
            "Traceback (most recent call last):\n",
            "  File \"/usr/local/lib/python3.7/dist-packages/googleapiclient/discovery_cache/file_cache.py\", line 37, in <module>\n",
            "    from oauth2client.locked_file import LockedFile\n",
            "ModuleNotFoundError: No module named 'oauth2client.locked_file'\n",
            "\n",
            "During handling of the above exception, another exception occurred:\n",
            "\n",
            "Traceback (most recent call last):\n",
            "  File \"/usr/local/lib/python3.7/dist-packages/googleapiclient/discovery_cache/__init__.py\", line 44, in autodetect\n",
            "    from . import file_cache\n",
            "  File \"/usr/local/lib/python3.7/dist-packages/googleapiclient/discovery_cache/file_cache.py\", line 41, in <module>\n",
            "    \"file_cache is unavailable when using oauth2client >= 4.0.0 or google-auth\"\n",
            "ImportError: file_cache is unavailable when using oauth2client >= 4.0.0 or google-auth\n"
          ]
        },
        {
          "output_type": "stream",
          "name": "stdout",
          "text": [
            "Importante: lembre-se de salvar o notebook antes de rodar esta célula!\n",
            "Executando o seu notebook para a submissão. Isso pode demorar alguns instantes...\n",
            ">> Verificando exercicios para correção... \n",
            ">> Submetendo exercício 1... \"Score: 1/1\"\n",
            ">> Submetendo exercício 2... \"Score: 1/1\"\n",
            ">> Submetendo exercício 3... \"Score: 1/1\"\n",
            ">> Submetendo exercício 4... \"Score: 1/1\"\n",
            ">> Submetendo exercício 5... \"Score: 1/1\"\n",
            ">> Submetendo exercício 6... \"Score: 1/1\"\n",
            ">> Submetendo exercício 7... \"Score: 1/1\"\n",
            ">> Submetendo exercício 8... \"Score: 1/1\"\n",
            ">> Submetendo exercício 9... \"Score: 1/1\"\n",
            ">> Submetendo exercício 10... \"Score: 1/1\"\n",
            ">> Submetendo exercício 11... \"Score: 1/1\"\n",
            ">> Submetendo exercício 12... \"Score: 1/1\"\n",
            "\n",
            "Tentativa de submissao #2 / 30\n",
            "Aluno: Welton Dionisio da Silva\n",
            "Score: 12 / 12\n",
            "Parabéns!! Você atingiu os critérios para passar neste notebook.\n",
            "\n",
            "Pontuação por exercício\n",
            "Exercicio  Pontuacao Maxima  Pontuacao Obtida\n",
            "        1                 1                 1\n",
            "        2                 1                 1\n",
            "        3                 1                 1\n",
            "        4                 1                 1\n",
            "        5                 1                 1\n",
            "        6                 1                 1\n",
            "        7                 1                 1\n",
            "        8                 1                 1\n",
            "        9                 1                 1\n",
            "       10                 1                 1\n",
            "       11                 1                 1\n",
            "       12                 1                 1\n",
            "\n"
          ]
        }
      ]
    }
  ]
}