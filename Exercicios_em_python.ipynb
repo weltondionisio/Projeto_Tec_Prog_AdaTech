{
  "cells": [
    {
      "cell_type": "markdown",
      "metadata": {
        "id": "view-in-github",
        "colab_type": "text"
      },
      "source": [
        "<a href=\"https://colab.research.google.com/github/weltondionisio/Projetos_de_programacao_em_Python/blob/main/Exercicios_em_python.ipynb\" target=\"_parent\"><img src=\"https://colab.research.google.com/assets/colab-badge.svg\" alt=\"Open In Colab\"/></a>"
      ]
    },
    {
      "cell_type": "code",
      "execution_count": null,
      "metadata": {
        "id": "l7w7KpocM6rs"
      },
      "outputs": [],
      "source": [
        "A = input('Digite a sua nota no primeiro bimestre: ')\n",
        "if \",\" in A:\n",
        "  A = (A.replace(\",\", \".\"))\n",
        "B = input('Digite a sua nota no segundo bimestre: ')\n",
        "if \",\" in B:\n",
        "  B = (B.replace(\",\", \".\"))\n",
        "C = input('Digite a sua nota no terceiro bimestre: ')\n",
        "if \",\" in C:\n",
        "  C = (C.replace(\",\", \".\"))\n",
        "D = input('Digite a sua nota no quarto bimestre: ')\n",
        "if \",\" in D:\n",
        "  D = (D.replace(\",\", \".\"))\n",
        "\n",
        "media = (float(A) + float(B) + float(C) + float(D))/4\n",
        "print('Sua média é: ', media)"
      ]
    },
    {
      "cell_type": "code",
      "execution_count": null,
      "metadata": {
        "id": "U5BLVo9vdDRj"
      },
      "outputs": [],
      "source": [
        "ganhos = input('Quantos reais você ganha por hora?')\n",
        "if \",\" in ganhos:\n",
        "  ganhos = (ganhos.replace(\",\", \".\"))\n",
        "horas = input('E quantas horas você trabalhou nesse mês?')\n",
        "if \",\" in horas:\n",
        "  horas = (horas.replace(\",\", \".\"))\n",
        "salario = float(ganhos) * float(horas)\n",
        "print('Seu salário nesse mês é:', salario)"
      ]
    },
    {
      "cell_type": "code",
      "execution_count": null,
      "metadata": {
        "id": "SwvCqex_dIXM"
      },
      "outputs": [],
      "source": [
        "tempf = input('Informe a temperatura em graus Fahrenheit: ')\n",
        "tempc = (5 * ((float(tempf.replace(',', '.'))) - 32) / 9)\n",
        "print('A temperatura é equivalente a ' + str(tempc) + ' °C')\n",
        "\n",
        "#programa que faz o inverso:\n",
        "tempc = input('Informe a temperatura em graus Celsius: ')\n",
        "tempf = (9/5 * float(tempc.replace(',', '.')) + 32)\n",
        "print('A temperatura é equivalente a ' + str(tempf) + ' °F')"
      ]
    },
    {
      "cell_type": "code",
      "execution_count": null,
      "metadata": {
        "id": "m7Vz0ax_l29g"
      },
      "outputs": [],
      "source": [
        "#Faça um programa que peça o dia, o mês e o ano para o usuário e imprima a data completa no formato dd/mm/aaaa.\n",
        "dia = input('Informe o dia: ')\n",
        "while len(dia) !=2:\n",
        "  dia = input('Informe o dia no formato dd (2 dígitos)')\n",
        "mes = input('Informe o mês: ')\n",
        "while len(mes) !=2:\n",
        "  mes = input('Informe o mês no formato mm (2 dígitos)')\n",
        "ano = input('Informe o ano: ')\n",
        "while len(ano) !=4:\n",
        "  ano = input('Informe o ano no formato aaaa (4 dígitos)')\n",
        "\n",
        "print(f'A data é: {dia}/{mes}/{ano}')"
      ]
    },
    {
      "cell_type": "code",
      "execution_count": null,
      "metadata": {
        "id": "jR56kr73pY1s"
      },
      "outputs": [],
      "source": [
        "primeiro = int(input('Digite um número inteiro: '))\n",
        "segundo = int(input('Digite outro número inteiro: '))\n",
        "terceiro = float(input('Digite um número real: '))\n",
        "resultadoa = (primeiro * 2) * (segundo/2)\n",
        "resultadob = (primeiro * 3) + terceiro\n",
        "resultadoc = terceiro**3\n",
        "print(f'Os resultados (a), (b) e (c) são, respectivamente: {resultadoa}, {resultadob} e {resultadoc}')"
      ]
    },
    {
      "cell_type": "code",
      "execution_count": null,
      "metadata": {
        "id": "haWEnTANsfXB"
      },
      "outputs": [],
      "source": [
        "peso = input('Informe seu peso kg: ')\n",
        "altura = input('Informe sua altura em m: ')\n",
        "IMC = (float(peso.replace(',', '.')) / (float(altura.replace(',', '.')))**2)\n",
        "print('Seu Índice de Massa Corporal (IMC) é: ', str(IMC))"
      ]
    },
    {
      "cell_type": "code",
      "execution_count": null,
      "metadata": {
        "id": "qUQKdFh9pbXZ"
      },
      "outputs": [],
      "source": [
        "valor1 = input('Indique o valor: ')\n",
        "valor2 = float(valor1.replace(',', '.')) * 1.15\n",
        "print('O novo valor é:', str(valor2))"
      ]
    },
    {
      "cell_type": "code",
      "execution_count": null,
      "metadata": {
        "id": "9iwDxfvbxc84"
      },
      "outputs": [],
      "source": [
        "valor1 = input('Indique o valor: ')\n",
        "valor2 = float(valor1.replace(',', '.')) * 0.85\n",
        "print('O novo valor é:', str(valor2))"
      ]
    },
    {
      "cell_type": "code",
      "execution_count": null,
      "metadata": {
        "id": "dv2IUbHIzk5X"
      },
      "outputs": [],
      "source": [
        "vinicial = input('Digite a velocidade inicial em metros/segundos: ')\n",
        "pinicial = input('Digite a posição inicial em metros: ')\n",
        "t = input('Digite um instante/intervalo de tempo em segundos: ')\n",
        "g = 10\n",
        "resultado = ((float(pinicial.replace(',', '.'))) + ((float(vinicial.replace(',', '.')))\n",
        " * (float((t.replace(',', '.'))))) + (g * ((float((t.replace(',', '.'))))**2))/2)\n",
        "print('A posição do projétil é: ', str(resultado))"
      ]
    },
    {
      "cell_type": "code",
      "execution_count": null,
      "metadata": {
        "id": "DCTuUPA6CN2m"
      },
      "outputs": [],
      "source": [
        "from datetime import datetime\n",
        "from pytz import timezone\n",
        "\n",
        "dh = datetime.now()\n",
        "fuso_h = timezone('America/Sao_Paulo')\n",
        "dhbrazil = dh.astimezone(fuso_h)\n",
        "\n",
        "\n",
        "dhtratado = dhbrazil.strftime('%d/%m/%Y %H:%M')\n",
        "\n",
        "print(dhtratado)"
      ]
    },
    {
      "cell_type": "code",
      "execution_count": null,
      "metadata": {
        "id": "pRFvKJyIWf_N"
      },
      "outputs": [],
      "source": [
        "import pytz\n",
        "\n",
        "for tz in pytz.all_timezones:\n",
        "    print(tz)"
      ]
    },
    {
      "cell_type": "code",
      "execution_count": null,
      "metadata": {
        "id": "KdPbm1TSUReg"
      },
      "outputs": [],
      "source": [
        "!ln -s /usr/share/zoneinfo/Brazil\n",
        "!date"
      ]
    },
    {
      "cell_type": "code",
      "execution_count": null,
      "metadata": {
        "id": "-QVzhRbA5LZ-"
      },
      "outputs": [],
      "source": [
        "numero = int(input('Digite um número inteiro, maior que 0: '))\n",
        "soma = 0\n",
        "while numero >= 1:\n",
        "  soma += numero\n",
        "  numero -= 1\n",
        "print(f'{soma}')"
      ]
    },
    {
      "cell_type": "code",
      "execution_count": null,
      "metadata": {
        "colab": {
          "base_uri": "https://localhost:8080/"
        },
        "id": "8PBpyb2f5MhV",
        "outputId": "c4d1445d-8a84-40f3-a569-2d8a4c2b829a"
      },
      "outputs": [
        {
          "name": "stdout",
          "output_type": "stream",
          "text": [
            "3\n",
            "Santos\n",
            "True\n",
            "5\n",
            "3\n",
            "0\n"
          ]
        }
      ],
      "source": [
        "lista = [3, 'Santos', True, [5, 3, 0]]\n",
        "\n",
        "for elem in lista:\n",
        "  if type(elem) == type(lista):\n",
        "    for elem2 in elem:\n",
        "      print(elem2)\n",
        "  else:\n",
        "    print(elem)"
      ]
    },
    {
      "cell_type": "code",
      "execution_count": null,
      "metadata": {
        "colab": {
          "base_uri": "https://localhost:8080/"
        },
        "id": "lp_vj4iQ8ulD",
        "outputId": "1d43a856-238a-4914-c630-142af524289b"
      },
      "outputs": [
        {
          "name": "stdout",
          "output_type": "stream",
          "text": [
            "Informe sua idade: 18\n",
            "Você é maior de 18 anos.\n"
          ]
        }
      ],
      "source": [
        "idade = int(input('Informe sua idade: '))\n",
        "if idade >= 18: #considerando a maioridade\n",
        "  print('Você é maior de 18 anos.')\n",
        "else:\n",
        "  print('Você é menor de 18 anos.')"
      ]
    },
    {
      "cell_type": "code",
      "execution_count": null,
      "metadata": {
        "colab": {
          "base_uri": "https://localhost:8080/"
        },
        "id": "MIe_WmWUH506",
        "outputId": "a2bed834-773e-4788-ad72-0bd5c778675d"
      },
      "outputs": [
        {
          "name": "stdout",
          "output_type": "stream",
          "text": [
            "Digite um número: -0,3\n",
            "O número informado é negativo.\n"
          ]
        }
      ],
      "source": [
        "numero = input('Digite um número: ')\n",
        "if float(numero.replace(',', '.')) < 0:\n",
        "  print('O número informado é negativo.')\n",
        "elif float(numero.replace(',', '.')) > 0:\n",
        "  print('O número informado é positivo.')"
      ]
    },
    {
      "cell_type": "code",
      "execution_count": null,
      "metadata": {
        "colab": {
          "base_uri": "https://localhost:8080/"
        },
        "id": "SKARf38FItR6",
        "outputId": "270e057e-a9a2-427f-9741-ebc02ff4e9ef"
      },
      "outputs": [
        {
          "name": "stdout",
          "output_type": "stream",
          "text": [
            "Informe o primeiro número: 2.3\n",
            "Informe o segundo número: 2,4\n",
            "O maior número é:  2,4\n"
          ]
        }
      ],
      "source": [
        "num1 = input('Informe o primeiro número: ')\n",
        "num2 = input('Informe o segundo número: ')\n",
        "if float(num1.replace(',', '.')) > float(num2.replace(',', '.')):\n",
        "  print('O maior número é: ', num1)\n",
        "elif float(num1.replace(',', '.')) < float(num2.replace(',', '.')):\n",
        "  print('O maior número é: ', num2)\n",
        "else:\n",
        "  print('Os números apresentados são iguais.')"
      ]
    },
    {
      "cell_type": "code",
      "execution_count": null,
      "metadata": {
        "colab": {
          "base_uri": "https://localhost:8080/"
        },
        "id": "yARJ5CSkKiWu",
        "outputId": "8796d120-ff6a-4d99-c055-e847c2953a9a"
      },
      "outputs": [
        {
          "name": "stdout",
          "output_type": "stream",
          "text": [
            "Informe a sua primeira nota: 2,3\n",
            "Informe a sua segunda nota: 5.4\n",
            "Informe a sua terceira nota: 10\n",
            "Reprovado com média 5.8999999999999995.\n"
          ]
        }
      ],
      "source": [
        "nota1 = input('Informe a sua primeira nota: ')\n",
        "nota2 = input('Informe a sua segunda nota: ')\n",
        "nota3 = input('Informe a sua terceira nota: ')\n",
        "media = (float(nota1.replace(',', '.')) + float(nota2.replace(',', '.')) + float(nota3.replace(',', '.')))/3\n",
        "if media >= 6:\n",
        "  print(f'Aprovado com média {media}.')\n",
        "else:\n",
        "  print(f'Reprovado com média {media}.')"
      ]
    },
    {
      "cell_type": "code",
      "execution_count": null,
      "metadata": {
        "colab": {
          "base_uri": "https://localhost:8080/"
        },
        "id": "_zSDf6xYM6GU",
        "outputId": "fd3cff01-d929-48d4-8914-7d91692255d1"
      },
      "outputs": [
        {
          "name": "stdout",
          "output_type": "stream",
          "text": [
            "Qual o sabor de pizza mais vendido no Brasil?\n",
            " a) Marguerita\n",
            " b) Frango com catupiry\n",
            " c) Calabresa\n",
            " d) Palmito\n",
            " e) Portuguesa. 3\n",
            "Você marcou a letra 3. Sua resposta está errada.\n"
          ]
        }
      ],
      "source": [
        "resposta_usuario = input('Qual o sabor de pizza mais vendido no Brasil?\\n a) Marguerita\\n b) Frango com catupiry\\n c) Calabresa\\n d) Palmito\\n e) Portuguesa. ')\n",
        "resposta_certa = ('c')\n",
        "if resposta_usuario.lower() == resposta_certa:\n",
        "  print(f'Você marcou a letra {resposta_usuario}. Sua resposta está certa.')\n",
        "else:\n",
        "  print(f'Você marcou a letra {resposta_usuario}. Sua resposta está errada.')"
      ]
    },
    {
      "cell_type": "code",
      "execution_count": null,
      "metadata": {
        "colab": {
          "base_uri": "https://localhost:8080/"
        },
        "id": "q4_jYPgsTpFQ",
        "outputId": "51ced15e-38d7-4808-df32-33e9da722be1"
      },
      "outputs": [
        {
          "name": "stdout",
          "output_type": "stream",
          "text": [
            "a. Mora perto da vítima? (sim/não)sim\n",
            "b. Já trabalhou com a vítima? (sim/não)Sim\n",
            "c. Telefonou para a vítima? (sim/não)SIM\n",
            "d. Esteve no local do crime? (sim/não)sim\n",
            "e. Devia para a vítima? (sim/não)não\n",
            "Cúmplice!\n"
          ]
        }
      ],
      "source": [
        "somatorio = 0\n",
        "res = ('sim')\n",
        "resposta1 = input('a. Mora perto da vítima? (sim/não)')\n",
        "if resposta1.lower() == res:\n",
        "  somatorio += 1\n",
        "resposta2 = input('b. Já trabalhou com a vítima? (sim/não)')\n",
        "if resposta2.lower() == res:\n",
        "  somatorio += 1\n",
        "resposta3 = input('c. Telefonou para a vítima? (sim/não)')\n",
        "if resposta3.lower() == res:\n",
        "  somatorio += 1\n",
        "resposta4 = input('d. Esteve no local do crime? (sim/não)')\n",
        "if resposta4.lower() == res:\n",
        "  somatorio += 1\n",
        "resposta5 = input('e. Devia para a vítima? (sim/não)')\n",
        "if resposta5.lower() == res:\n",
        "  somatorio += 1\n",
        "pass\n",
        "\n",
        "if somatorio == 5:\n",
        "  print('Assassino!')\n",
        "elif somatorio >= 3 :\n",
        "  print('Cúmplice!')\n",
        "elif somatorio == 2:\n",
        "  print('Suspeito.')\n",
        "else:\n",
        "  print('Liberado.')"
      ]
    },
    {
      "cell_type": "code",
      "execution_count": null,
      "metadata": {
        "colab": {
          "base_uri": "https://localhost:8080/"
        },
        "id": "1iG2qInZRy-f",
        "outputId": "e873f68d-6a66-4468-8865-3dabc3d7e3d4"
      },
      "outputs": [
        {
          "name": "stdout",
          "output_type": "stream",
          "text": [
            "Advinhe o número sorteado de 1 a 5: 2\n",
            "Você acertou!\n"
          ]
        }
      ],
      "source": [
        "from random import randint\n",
        "number = randint(1,5)\n",
        "resposta = input('Advinhe o número sorteado de 1 a 5: ')\n",
        "if int(resposta) == int(number):\n",
        "  print('Você acertou!')\n",
        "else:\n",
        "  print('Você errou!')"
      ]
    },
    {
      "cell_type": "code",
      "execution_count": null,
      "metadata": {
        "colab": {
          "base_uri": "https://localhost:8080/"
        },
        "id": "5rYvaOqtegE7",
        "outputId": "e0b0a61a-87da-45a7-e78c-d539d751e70e"
      },
      "outputs": [
        {
          "name": "stdout",
          "output_type": "stream",
          "text": [
            "Insira a velocidade do carro em km/h: 50,5\n",
            "Você ultrapassou o limite de velocidade permitida e recebeu uma multa no valor de 5.0 reais.\n"
          ]
        }
      ],
      "source": [
        "velocidade_carro = input('Insira a velocidade do carro em km/h: ')\n",
        "velocidade_permitida = (50)\n",
        "multa = (float(velocidade_carro.replace(',', '.')) - velocidade_permitida) * 10\n",
        "if float(velocidade_carro.replace(',', '.')) - velocidade_permitida > 0:\n",
        "  print(f'Você ultrapassou o limite de velocidade permitida e recebeu uma multa no valor de {multa} reais.')\n",
        "else:\n",
        "  print('Você obedeceu o limite de velocidade permitida. Nenhuma multa pendente.')"
      ]
    },
    {
      "cell_type": "code",
      "execution_count": null,
      "metadata": {
        "colab": {
          "base_uri": "https://localhost:8080/"
        },
        "id": "HVdf5KcbiSBh",
        "outputId": "4c1e7c8a-b170-4e25-8525-d8807271bfdc"
      },
      "outputs": [
        {
          "name": "stdout",
          "output_type": "stream",
          "text": [
            "a) Você tem febre persistente? (sim/não)SIM\n",
            "b) Você tem dificuldade para respirar? (sim/não)nÃO\n",
            "Fique em casa.\n"
          ]
        }
      ],
      "source": [
        "a = input('a) Você tem febre persistente? (sim/não)')\n",
        "b = input('b) Você tem dificuldade para respirar? (sim/não)')\n",
        "sim = ('sim')\n",
        "nao = ('não')\n",
        "if a.lower() == sim and b.lower() == sim:\n",
        "  print('Procure um hospital.')\n",
        "else:\n",
        "  print('Fique em casa.')"
      ]
    },
    {
      "cell_type": "code",
      "execution_count": null,
      "metadata": {
        "colab": {
          "base_uri": "https://localhost:8080/"
        },
        "id": "1nLQ8ZSSkmaJ",
        "outputId": "f80aa551-7d54-4441-fea5-a2d538d60014"
      },
      "outputs": [
        {
          "name": "stdout",
          "output_type": "stream",
          "text": [
            "Digite um número inteiro: 5\n",
            "1\n",
            "2\n",
            "3\n",
            "4\n",
            "5\n"
          ]
        }
      ],
      "source": [
        "i = 1\n",
        "numero = int(input('Digite um número inteiro: '))\n",
        "while i <= numero:\n",
        "  print(i)\n",
        "  i += 1"
      ]
    },
    {
      "cell_type": "code",
      "execution_count": null,
      "metadata": {
        "colab": {
          "base_uri": "https://localhost:8080/"
        },
        "id": "-7RNSdEAlOH0",
        "outputId": "a8ed8ea2-2494-4a4e-c45f-ab57a636e3e3"
      },
      "outputs": [
        {
          "name": "stdout",
          "output_type": "stream",
          "text": [
            "Digite um número inteiro: 7\n",
            "O fatorial de 7 é 5040.\n"
          ]
        }
      ],
      "source": [
        "numero = int(input('Digite um número inteiro: '))\n",
        "fatorial = 1\n",
        "\n",
        "if numero < 0:\n",
        "   print(\"Não existe fatorial de números negativos.\")\n",
        "elif numero == 0:\n",
        "   print(\"Fatorial de zero é 1\")\n",
        "else:\n",
        "   for i in range(1,numero + 1):\n",
        "       fatorial = fatorial*i\n",
        "   print(f'O fatorial de {numero} é {fatorial}.')"
      ]
    },
    {
      "cell_type": "code",
      "execution_count": null,
      "metadata": {
        "colab": {
          "base_uri": "https://localhost:8080/"
        },
        "id": "J1LjFaSslcI8",
        "outputId": "c976a7c4-4f70-4f47-9514-cc5dfe412c3d"
      },
      "outputs": [
        {
          "name": "stdout",
          "output_type": "stream",
          "text": [
            "Digite um número inteiro: 12\n",
            "A soma é 78\n"
          ]
        }
      ],
      "source": [
        "numero = int(input('Digite um número inteiro: '))\n",
        "soma = 0\n",
        "\n",
        "# use while loop to iterate until zero\n",
        "while numero > 0:\n",
        "    soma += numero\n",
        "    numero -= 1\n",
        "print(\"A soma é\", soma)"
      ]
    },
    {
      "cell_type": "code",
      "execution_count": null,
      "metadata": {
        "colab": {
          "base_uri": "https://localhost:8080/"
        },
        "id": "GsOrtdZVwc7E",
        "outputId": "bc9261fc-659c-41a1-98ee-92007d0076d9"
      },
      "outputs": [
        {
          "name": "stdout",
          "output_type": "stream",
          "text": [
            "9 x 1 = 9\n",
            "9 x 2 = 9\n",
            "9 x 3 = 9\n",
            "9 x 4 = 9\n",
            "9 x 5 = 9\n",
            "9 x 6 = 9\n",
            "9 x 7 = 9\n",
            "9 x 8 = 9\n",
            "9 x 9 = 9\n",
            "9 x 10 = 9\n"
          ]
        }
      ],
      "source": [
        "n = 9\n",
        "i = 1\n",
        "r = n * i\n",
        "while i <= 10:\n",
        "  print(f'{n} x {i} = {n * i}')\n",
        "  i += 1"
      ]
    },
    {
      "cell_type": "code",
      "execution_count": null,
      "metadata": {
        "colab": {
          "base_uri": "https://localhost:8080/"
        },
        "id": "lqT1x6cS2bok",
        "outputId": "4a231d33-2a86-4604-be54-e591aa4e3e4d"
      },
      "outputs": [
        {
          "name": "stdout",
          "output_type": "stream",
          "text": [
            "Digite um número: 2\n",
            "Digite outro número: 2\n",
            "Digite outro número: 0\n",
            "A soma dos números digitados é 4.0\n"
          ]
        }
      ],
      "source": [
        "numero = input('Digite um número: ')\n",
        "soma = 0\n",
        "while float(numero.replace(',', '.')) != 0:\n",
        "  soma += float(numero.replace(',', '.'))\n",
        "  numero = input('Digite outro número: ')\n",
        "\n",
        "print('A soma dos números digitados é', soma)"
      ]
    },
    {
      "cell_type": "code",
      "execution_count": null,
      "metadata": {
        "colab": {
          "base_uri": "https://localhost:8080/"
        },
        "id": "052643GE7iNK",
        "outputId": "748cc34f-193c-431d-ae52-23021cbc94c3"
      },
      "outputs": [
        {
          "name": "stdout",
          "output_type": "stream",
          "text": [
            "Advinhe o número sorteado de 1 a 10: 2\n",
            "Você errou! Tente outro número: 1\n",
            "Você acertou!\n"
          ]
        }
      ],
      "source": [
        "from random import randint\n",
        "number = randint(1,10)\n",
        "resposta = input('Advinhe o número sorteado de 1 a 10: ')\n",
        "while int(resposta) != int(number):\n",
        "  resposta = input('Você errou! Tente outro número: ')\n",
        "  continue\n",
        "else:\n",
        "  print('Você acertou!')"
      ]
    },
    {
      "cell_type": "code",
      "execution_count": null,
      "metadata": {
        "colab": {
          "base_uri": "https://localhost:8080/"
        },
        "id": "zIjnBG4rBZZz",
        "outputId": "5d0813ff-3fce-40f0-8187-c38f32dda4c5"
      },
      "outputs": [
        {
          "name": "stdout",
          "output_type": "stream",
          "text": [
            "Digite a idade: 21\n",
            "Digite o salário: 21\n",
            "Digite o sexo (M, F ou Outro): OUTRO\n"
          ]
        }
      ],
      "source": [
        "resposta_a = input('Digite a idade: ')\n",
        "while float(resposta_a.replace(',', '.')) < 0 or float(resposta_a.replace(',', '.')) > 150:\n",
        "  resposta_a = input('Entrada não válida. Digite a idade: ')\n",
        "  continue\n",
        "else:\n",
        "  pass\n",
        "resposta_b = input('Digite o salário: ')\n",
        "while float(resposta_b.replace(',', '.')) < 0:\n",
        "  resposta_a = input('Entrada não válida. Digite o salário: ')\n",
        "  continue\n",
        "else:\n",
        "  pass\n",
        "resposta_c = input('Digite o sexo (M, F ou Outro): ')\n",
        "resposta_m = ('m')\n",
        "resposta_f = ('f')\n",
        "resposta_o = ('outro')\n",
        "while resposta_c.lower() != resposta_m and resposta_c.lower() != resposta_f and resposta_c.lower() != resposta_o:\n",
        "  resposta_c = input('Entrada não válida. Digite o sexo: ')\n",
        "  continue\n",
        "else:\n",
        "  pass"
      ]
    },
    {
      "cell_type": "code",
      "execution_count": null,
      "metadata": {
        "colab": {
          "base_uri": "https://localhost:8080/"
        },
        "id": "C6E9z5V4GKPr",
        "outputId": "4b3d52fe-06c2-4adb-a40c-2cc946ab1c3e"
      },
      "outputs": [
        {
          "output_type": "stream",
          "name": "stdout",
          "text": [
            "A soma dos termos é:  2.0\n"
          ]
        }
      ],
      "source": [
        "contador = 0\n",
        "soma = 0\n",
        "i = 1 # dividir por 2 a cada loop\n",
        "while contador  < 1000:\n",
        "  soma += i\n",
        "  i = i/2\n",
        "  contador += 1\n",
        "print('A soma dos termos é: ', soma)"
      ]
    },
    {
      "cell_type": "code",
      "source": [
        "contador = 0\n",
        "soma = 0\n",
        "i = 1\n",
        "fatorial = 1\n",
        "while contador  < 1000:\n",
        "  soma += i\n",
        "  fatorial += 1\n",
        "  i = i/fatorial\n",
        "  contador += 1\n",
        "print('A soma dos termos é: ', soma)"
      ],
      "metadata": {
        "colab": {
          "base_uri": "https://localhost:8080/"
        },
        "id": "ci7cApUuNQzx",
        "outputId": "eb1d743d-bc98-4a07-b7ca-740e93842139"
      },
      "execution_count": null,
      "outputs": [
        {
          "output_type": "stream",
          "name": "stdout",
          "text": [
            "A soma dos termos é:  1.7182818284590455\n"
          ]
        }
      ]
    },
    {
      "cell_type": "code",
      "source": [
        "numero = int(input('Digite um número inteiro: '))\n",
        "fatorial = 1\n",
        "\n",
        "if numero < 0:\n",
        "   print(\"Não existe fatorial de números negativos.\")\n",
        "elif numero == 0:\n",
        "   print(\"Fatorial de zero é 1\")\n",
        "else:\n",
        "   for i in range(1,numero + 1):\n",
        "       fatorial = fatorial*i\n",
        "   print(f'O fatorial de {numero} é {fatorial}.')"
      ],
      "metadata": {
        "id": "TAN_VWD6NaNE"
      },
      "execution_count": null,
      "outputs": []
    },
    {
      "cell_type": "code",
      "execution_count": null,
      "metadata": {
        "colab": {
          "base_uri": "https://localhost:8080/"
        },
        "id": "1NrEP-OCZdor",
        "outputId": "22c80da1-891b-461b-aa55-65cc2c46d782"
      },
      "outputs": [
        {
          "output_type": "execute_result",
          "data": {
            "text/plain": [
              "8"
            ]
          },
          "metadata": {},
          "execution_count": 59
        }
      ],
      "source": [
        "2**3"
      ]
    },
    {
      "cell_type": "code",
      "execution_count": null,
      "metadata": {
        "colab": {
          "base_uri": "https://localhost:8080/"
        },
        "id": "obEnbEW7QTox",
        "outputId": "eecc89b3-059f-4163-a151-85f670515178"
      },
      "outputs": [
        {
          "name": "stdout",
          "output_type": "stream",
          "text": [
            "2.25\n"
          ]
        }
      ],
      "source": [
        "contador = 0\n",
        "mult = 1\n",
        "while contador <2:\n",
        "  mult += mult/2\n",
        "  contador += 1\n",
        "print(mult)"
      ]
    },
    {
      "cell_type": "code",
      "execution_count": null,
      "metadata": {
        "colab": {
          "base_uri": "https://localhost:8080/"
        },
        "id": "Od__1sfpMHXG",
        "outputId": "41d4008c-aa71-4201-fa33-91214d42127a"
      },
      "outputs": [
        {
          "name": "stdout",
          "output_type": "stream",
          "text": [
            "Sum is 1.5\n"
          ]
        }
      ],
      "source": [
        "def sum(n):\n",
        "    i = 1\n",
        "    s = 0.0\n",
        "    for i in range(1, n+1):\n",
        "        s = s + 1/i;\n",
        "    return s;\n",
        " \n",
        "# Driver Code\n",
        "n = 3\n",
        "print(\"Sum is\", round(sum(n), 6))\n",
        " \n",
        "# This code is contributed by Chinmoy Lenka"
      ]
    },
    {
      "cell_type": "code",
      "source": [
        "lista = ['charmander', 'charmeleon', 'charizard']\n",
        "for i in lista:\n",
        "  print(i)"
      ],
      "metadata": {
        "colab": {
          "base_uri": "https://localhost:8080/"
        },
        "id": "rIUJSK4ZZt7Z",
        "outputId": "8dedbebb-e97e-4ebf-ac52-6c2b0b177788"
      },
      "execution_count": null,
      "outputs": [
        {
          "output_type": "stream",
          "name": "stdout",
          "text": [
            "charmander\n",
            "charmeleon\n",
            "charizard\n"
          ]
        }
      ]
    },
    {
      "cell_type": "code",
      "source": [
        "lista = ['charmander', 'charmeleon', 'charizard']\n",
        "i = 0\n",
        "while i < len(lista):\n",
        "  print(lista[i])\n",
        "  i = i + 1"
      ],
      "metadata": {
        "colab": {
          "base_uri": "https://localhost:8080/"
        },
        "id": "I3hIzbwUaN2H",
        "outputId": "57bc396f-ff45-4b14-9e3e-162c72f6f3ac"
      },
      "execution_count": null,
      "outputs": [
        {
          "output_type": "stream",
          "name": "stdout",
          "text": [
            "charmander\n",
            "charmeleon\n",
            "charizard\n"
          ]
        }
      ]
    },
    {
      "cell_type": "code",
      "source": [
        "n = int(input('Digite um número inteiro: '))\n",
        "lista = list(range(0,n))\n",
        "print(lista)"
      ],
      "metadata": {
        "colab": {
          "base_uri": "https://localhost:8080/"
        },
        "id": "8ahxpDmacPtt",
        "outputId": "a233607e-ad4c-4741-fcad-1c03e4070779"
      },
      "execution_count": null,
      "outputs": [
        {
          "output_type": "stream",
          "name": "stdout",
          "text": [
            "Digite um número inteiro: 5\n",
            "[0, 1, 2, 3, 4]\n"
          ]
        }
      ]
    },
    {
      "cell_type": "code",
      "source": [
        "lista = list(range(1,101))\n",
        "count = 0\n",
        "for i in lista:\n",
        "  if i % 2 == 0:\n",
        "    count += 1\n",
        "print(f'Nessa lista há {count} números pares.')"
      ],
      "metadata": {
        "colab": {
          "base_uri": "https://localhost:8080/"
        },
        "id": "FEs1BKNttouc",
        "outputId": "2047ca13-b244-4700-dfb3-828a31ae0298"
      },
      "execution_count": null,
      "outputs": [
        {
          "output_type": "stream",
          "name": "stdout",
          "text": [
            "Nessa lista há 50 números pares.\n"
          ]
        }
      ]
    },
    {
      "cell_type": "code",
      "source": [
        "lista = list(range(1,101))\n",
        "lista_s = lista.sort()\n",
        "print(lista)"
      ],
      "metadata": {
        "colab": {
          "base_uri": "https://localhost:8080/"
        },
        "id": "XR88KBR0Cz-4",
        "outputId": "30448882-fa06-47e4-f01b-9ea75b3f8041"
      },
      "execution_count": null,
      "outputs": [
        {
          "output_type": "stream",
          "name": "stdout",
          "text": [
            "[1, 2, 3, 4, 5, 6, 7, 8, 9, 10, 11, 12, 13, 14, 15, 16, 17, 18, 19, 20, 21, 22, 23, 24, 25, 26, 27, 28, 29, 30, 31, 32, 33, 34, 35, 36, 37, 38, 39, 40, 41, 42, 43, 44, 45, 46, 47, 48, 49, 50, 51, 52, 53, 54, 55, 56, 57, 58, 59, 60, 61, 62, 63, 64, 65, 66, 67, 68, 69, 70, 71, 72, 73, 74, 75, 76, 77, 78, 79, 80, 81, 82, 83, 84, 85, 86, 87, 88, 89, 90, 91, 92, 93, 94, 95, 96, 97, 98, 99, 100]\n"
          ]
        }
      ]
    },
    {
      "cell_type": "code",
      "source": [
        "#Faça um programa que imprima o maior número de uma lista, sem usar a função max().\n",
        "lista = list(range(1, 101))\n",
        "lista.sort()\n",
        "print(lista[-1])"
      ],
      "metadata": {
        "colab": {
          "base_uri": "https://localhost:8080/"
        },
        "id": "hzDFBNYPP75f",
        "outputId": "586092e3-da2b-48d2-9f12-5e82f51032fb"
      },
      "execution_count": null,
      "outputs": [
        {
          "output_type": "stream",
          "name": "stdout",
          "text": [
            "100\n"
          ]
        }
      ]
    },
    {
      "cell_type": "code",
      "source": [
        "lista = list(range(1, 101))\n",
        "lista_max = 0\n",
        "count = 0\n",
        "while count <3:\n",
        "  for i in lista:\n",
        "    lista_max += max(lista)\n",
        "    lista.remove(max(lista))\n",
        "    count += 1\n",
        "print(lista_max)"
      ],
      "metadata": {
        "colab": {
          "base_uri": "https://localhost:8080/"
        },
        "id": "c-9Hw8zGuCR1",
        "outputId": "29d1cfca-6cfc-4989-f72e-f3682f2739b1"
      },
      "execution_count": 9,
      "outputs": [
        {
          "output_type": "stream",
          "name": "stdout",
          "text": [
            "3775\n"
          ]
        }
      ]
    },
    {
      "cell_type": "code",
      "source": [
        "lista = range(1, 101)\n",
        "lista_nova = []\n",
        "lista_nova.append(max(lista))\n",
        "print(lista_nova)\n",
        "lista.remove()\n",
        "print(lista)"
      ],
      "metadata": {
        "colab": {
          "base_uri": "https://localhost:8080/"
        },
        "id": "q9X3JBW1uD0b",
        "outputId": "c75cc55d-5853-40fa-d358-02ccc646d064"
      },
      "execution_count": null,
      "outputs": [
        {
          "output_type": "stream",
          "name": "stdout",
          "text": [
            "[range(1, 101)]\n",
            "[range(1, 101)]\n"
          ]
        }
      ]
    },
    {
      "cell_type": "code",
      "source": [
        "lista = list(range(1, 101))\n",
        "lista_nova = []\n",
        "i = 0\n",
        "while i < 3:\n",
        "  for ele in lista:\n",
        "    if ele == max(lista):\n",
        "      lista_nova.append(ele)\n",
        "      lista.remove(ele)\n",
        "      i += 1\n",
        "\n",
        "print(lista_nova)\n"
      ],
      "metadata": {
        "colab": {
          "base_uri": "https://localhost:8080/"
        },
        "id": "EWGaTtJAT3gh",
        "outputId": "3d5d7d77-ef95-4fe3-ed55-6eeda09fd851"
      },
      "execution_count": null,
      "outputs": [
        {
          "output_type": "stream",
          "name": "stdout",
          "text": [
            "[100, 99, 98]\n"
          ]
        }
      ]
    },
    {
      "cell_type": "code",
      "source": [
        "lista1 = [1, 4, 5]\n",
        "lista2 = [2, 2, 3]\n",
        "lista3 = []\n",
        "for i in range(len(lista1)):\n",
        "  lista3.append(lista1[i] + lista2[i])\n",
        "print(lista3)"
      ],
      "metadata": {
        "colab": {
          "base_uri": "https://localhost:8080/"
        },
        "id": "BjgBkJVjaT-R",
        "outputId": "7edd3020-3593-4c51-b1f5-512ff77ea388"
      },
      "execution_count": null,
      "outputs": [
        {
          "output_type": "stream",
          "name": "stdout",
          "text": [
            "[3, 6, 8]\n"
          ]
        }
      ]
    },
    {
      "cell_type": "code",
      "source": [
        "lista = [input('Digite um número: '),\n",
        "         input('Digite um número: '),\n",
        "         input('Digite um número: '),\n",
        "         input('Digite um número: '),\n",
        "         input('Digite um número: ')]\n",
        "\n",
        "print(lista)"
      ],
      "metadata": {
        "colab": {
          "base_uri": "https://localhost:8080/"
        },
        "id": "UL8dFKIOaiZQ",
        "outputId": "a679c41d-e0b0-45b2-f4d0-8570e72ba522"
      },
      "execution_count": null,
      "outputs": [
        {
          "output_type": "stream",
          "name": "stdout",
          "text": [
            "Digite um número: 1\n",
            "Digite um número: 5\n",
            "Digite um número: 2\n",
            "Digite um número: 3\n",
            "Digite um número: 6\n",
            "['1', '5', '2', '3', '6']\n"
          ]
        }
      ]
    },
    {
      "cell_type": "code",
      "source": [
        "lista = [input('Digite um número: '),\n",
        "         input('Digite um número: '),\n",
        "         input('Digite um número: '),\n",
        "         input('Digite um número: '),\n",
        "         input('Digite um número: ')]\n",
        "\n",
        "lista_nova = []\n",
        "\n",
        "for i in lista:\n",
        "    lista_nova.append(float(i))\n",
        "\n",
        "print(lista_nova, type(lista_nova[0]))"
      ],
      "metadata": {
        "colab": {
          "base_uri": "https://localhost:8080/"
        },
        "id": "FWEN9bmqv1Lr",
        "outputId": "ae44d062-6798-45ef-b2ce-edc060180a94"
      },
      "execution_count": null,
      "outputs": [
        {
          "output_type": "stream",
          "name": "stdout",
          "text": [
            "[1.0, 5.0, 2.0, 3.0, 6.0] <class 'float'>\n"
          ]
        }
      ]
    },
    {
      "cell_type": "code",
      "source": [
        "notas = [int(input('Insira a primeira nota: ')),\n",
        "         int(input('Insira a segunda nota: ')),\n",
        "         int(input('Insira a terceira nota: ')),\n",
        "         int(input('Insira a quarta nota: '))]\n",
        "media = 0\n",
        "for i in notas:\n",
        "  media += i/4\n",
        "print(media)"
      ],
      "metadata": {
        "colab": {
          "base_uri": "https://localhost:8080/"
        },
        "id": "DStXRq_hzs1g",
        "outputId": "f31c66ab-30e3-46ba-faed-844da9c580d4"
      },
      "execution_count": null,
      "outputs": [
        {
          "output_type": "stream",
          "name": "stdout",
          "text": [
            "Insira a primeira nota: 10\n",
            "Insira a segunda nota: 2\n",
            "Insira a terceira nota: 6\n",
            "Insira a quarta nota: 6\n",
            "6.0\n"
          ]
        }
      ]
    },
    {
      "cell_type": "code",
      "source": [
        "print(lista0)\n",
        "\n",
        "\n"
      ],
      "metadata": {
        "colab": {
          "base_uri": "https://localhost:8080/"
        },
        "id": "8AQGB_pGe_jt",
        "outputId": "80868239-e0f0-4ca3-8b6a-c251129f741c"
      },
      "execution_count": null,
      "outputs": [
        {
          "output_type": "stream",
          "name": "stdout",
          "text": [
            "[10, 9, 8, 7, 6, 5, 4, 3, 2, 1]\n"
          ]
        }
      ]
    },
    {
      "cell_type": "code",
      "source": [
        "lista0 = list(range(1,11))\n",
        "print('a) ', lista0)\n",
        "print('b) ', lista0[0:4])\n",
        "print('c) ', lista0[-5:])\n",
        "print('d) ', lista0[0::2])\n",
        "print('e) ', lista0[1::2])\n",
        "lista_inv = sorted(lista0, reverse=True)\n",
        "print('f) ', lista_inv)\n",
        "print('g) ', lista_inv[4::-1])\n",
        "print('h) ', lista_inv[:4:-1])"
      ],
      "metadata": {
        "colab": {
          "base_uri": "https://localhost:8080/"
        },
        "id": "V05uCn1GfXM2",
        "outputId": "cf4afb67-f01a-4497-de5a-6deaaa0bef6e"
      },
      "execution_count": null,
      "outputs": [
        {
          "output_type": "stream",
          "name": "stdout",
          "text": [
            "a)  [1, 2, 3, 4, 5, 6, 7, 8, 9, 10]\n",
            "b)  [1, 2, 3, 4]\n",
            "c)  [6, 7, 8, 9, 10]\n",
            "d)  [1, 3, 5, 7, 9]\n",
            "e)  [2, 4, 6, 8, 10]\n",
            "f)  [10, 9, 8, 7, 6, 5, 4, 3, 2, 1]\n",
            "g)  [6, 7, 8, 9, 10]\n",
            "h)  [1, 2, 3, 4, 5]\n"
          ]
        }
      ]
    },
    {
      "cell_type": "code",
      "source": [
        "import random\n",
        "\n",
        "lista_sorteados = random.choices((list(range(1,101))), k = 10)\n",
        "i = 0\n",
        "for ele in lista_sorteados:\n",
        "  if ele > 50:\n",
        "    i += 1\n",
        "print(f'Há {i} números sorteados maiores que 50.')"
      ],
      "metadata": {
        "colab": {
          "base_uri": "https://localhost:8080/"
        },
        "id": "feuYdsKTkzBP",
        "outputId": "f578fe26-da08-4e31-bb15-dbfd437a17d2"
      },
      "execution_count": null,
      "outputs": [
        {
          "output_type": "stream",
          "name": "stdout",
          "text": [
            "[42, 4, 50, 82, 66, 54, 86, 15, 57, 38]\n",
            "Há 5 números sorteados maiores que 50.\n"
          ]
        }
      ]
    },
    {
      "cell_type": "code",
      "source": [
        "import random\n",
        "\n",
        "lista_sorteados = random.choices((list(range(1,101))), k = 10)\n",
        "i = 0\n",
        "print(lista_sorteados)\n",
        "print('a. O maior número sorteado:', max(lista_sorteados),'\\n'\n",
        "      'b. O menor número sorteado:', min(lista_sorteados),'\\n'\n",
        "      'c. A média dos números sorteados:', (sum(lista_sorteados)/2),'\\n'\n",
        "      'd. A soma dos números sorteados:', sum(lista_sorteados))"
      ],
      "metadata": {
        "colab": {
          "base_uri": "https://localhost:8080/"
        },
        "id": "psbPzbo5ZzE5",
        "outputId": "92fbdcf4-ad85-438c-8399-932f46704ca1"
      },
      "execution_count": null,
      "outputs": [
        {
          "output_type": "stream",
          "name": "stdout",
          "text": [
            "[62, 69, 65, 59, 83, 48, 81, 97, 44, 86]\n",
            "a. O maior número sorteado: 97 \n",
            "b. O menor número sorteado: 44 \n",
            "c. A média dos números sorteados: 347.0 \n",
            "d. A soma dos números sorteados: 694\n"
          ]
        }
      ]
    },
    {
      "cell_type": "code",
      "source": [
        "cpf = input('Insira o cpf sem símbolos, apenas números: ')\n",
        "cpf_lista = []\n",
        "for numero in cpf:\n",
        "  cpf_lista.append(int(numero))\n",
        "\n",
        "validacao1 = (cpf_lista[0]*10 + cpf_lista[1]*9 + cpf_lista[2]*8\\\n",
        "+ cpf_lista[3]*7 + cpf_lista[4]*6 + cpf_lista[5]*5\\\n",
        "+ cpf_lista[6]*4 + cpf_lista[7]*3 + cpf_lista[8]*2)\n",
        "\n",
        "if validacao1*10%11 == cpf_lista[9]:\n",
        "  validacao2 = (cpf_lista[0]*11 + cpf_lista[1]*10 + cpf_lista[2]*9\\\n",
        "                + cpf_lista[3]*8 + cpf_lista[4]*7 + cpf_lista[5]*6\\\n",
        "                + cpf_lista[6]*5 + cpf_lista[7]*4 + cpf_lista[8]*3\\\n",
        "                + cpf_lista[9]*2)\n",
        "  if validacao2*10%11 == cpf_lista[10]:\n",
        "    print('CPF válido.')\n",
        "\n",
        "else:\n",
        "  print('CPF não válido.')"
      ],
      "metadata": {
        "colab": {
          "base_uri": "https://localhost:8080/"
        },
        "id": "q8JXWA28lUCd",
        "outputId": "a9852b15-8ce5-42ef-c5f2-ac29125fa03f"
      },
      "execution_count": null,
      "outputs": [
        {
          "output_type": "stream",
          "name": "stdout",
          "text": [
            "Insira o cpf sem símbolos, apenas números: 0000002222244444\n",
            "CPF não válido.\n"
          ]
        }
      ]
    },
    {
      "cell_type": "code",
      "source": [
        "def dobrar_numero(numero):\n",
        "  '''A função dobra o valor de um número dado.'''\n",
        "  print(numero*2)\n",
        "\n",
        "dobrar_numero(2)"
      ],
      "metadata": {
        "colab": {
          "base_uri": "https://localhost:8080/"
        },
        "id": "plbYrAmtKKo-",
        "outputId": "138568b3-faa4-4f42-c353-a422b63df6ce"
      },
      "execution_count": null,
      "outputs": [
        {
          "output_type": "stream",
          "name": "stdout",
          "text": [
            "4\n"
          ]
        }
      ]
    },
    {
      "cell_type": "code",
      "source": [
        "def circunferencia(raio):\n",
        "  '''A função recebe o valor do raio e retorna o comprimento de sua circunferência.'''\n",
        "  return 2 * 3,14 * raio"
      ],
      "metadata": {
        "id": "qCvBpa62O_gS"
      },
      "execution_count": null,
      "outputs": []
    },
    {
      "cell_type": "code",
      "source": [
        "def somar(numero1, numero2):\n",
        "  '''Soma dois números.'''\n",
        "  return numero1 + numero2\n",
        "\n",
        "def subtrair(numero1, numero2):\n",
        "  '''Subtrai dois números.'''\n",
        "  return numero1 - numero2\n",
        "\n",
        "def multiplicar(numero1, numero2):\n",
        "  '''Multiplica dois números.'''\n",
        "  return numero1 * numero2\n",
        "\n",
        "def dividir(dividendo, divisor):\n",
        "  '''Divide um número por outro.'''\n",
        "  return dividendo / divisor"
      ],
      "metadata": {
        "colab": {
          "base_uri": "https://localhost:8080/"
        },
        "id": "qABxl-h5V6R0",
        "outputId": "9dd90a40-a63e-4738-ead7-ee4b1322a845"
      },
      "execution_count": null,
      "outputs": [
        {
          "output_type": "stream",
          "name": "stdout",
          "text": [
            "4 0 4 1.0\n"
          ]
        }
      ]
    },
    {
      "cell_type": "code",
      "source": [
        "def ola(nome):\n",
        "  '''Recebe um nome e retorna \"Olá, nome\".'''\n",
        "  print(f'Olá, {nome}.')\n",
        "\n",
        "ola('Welton')"
      ],
      "metadata": {
        "colab": {
          "base_uri": "https://localhost:8080/"
        },
        "id": "ZTacsuI6bnz2",
        "outputId": "2d2805b5-2710-42ed-fa2d-3358a728fdca"
      },
      "execution_count": null,
      "outputs": [
        {
          "output_type": "stream",
          "name": "stdout",
          "text": [
            "Olá, Welton.\n"
          ]
        }
      ]
    },
    {
      "cell_type": "code",
      "source": [
        "def saudacao(nome, hora):\n",
        "  '''Recebe nome e horário e retorna a saudação adequada.\n",
        "      Inserir hora em formato hh:mm (0 a 24h)'''\n",
        "  hora_numero = int(hora[0:2])\n",
        "  if hora_numero >= 12 and hora_numero < 18:\n",
        "    print(f'Boa tarde, {nome}.')\n",
        "  elif hora_numero >= 18 and hora_numero <= 23:\n",
        "    print(f'Boa noite, {nome}.')\n",
        "  else:\n",
        "    print(f'Bom dia, {nome}.')\n",
        "\n",
        "saudacao('Welton', '13h00')"
      ],
      "metadata": {
        "colab": {
          "base_uri": "https://localhost:8080/"
        },
        "id": "vDW_YfMccmNi",
        "outputId": "c4ca9ae1-4493-4249-8f8f-cc542484dea5"
      },
      "execution_count": null,
      "outputs": [
        {
          "output_type": "stream",
          "name": "stdout",
          "text": [
            "Boa tarde, Welton.\n"
          ]
        }
      ]
    },
    {
      "cell_type": "code",
      "source": [
        "from datetime import datetime\n",
        "date = datetime.now()\n",
        "hora = date.strftime(('%H'))\n",
        "if int(hora) > 12:\n",
        "  print(f'Bom dia, {nome}.')\n",
        "else:\n",
        "  print(f'Boa tarde, {nome}.')"
      ],
      "metadata": {
        "colab": {
          "base_uri": "https://localhost:8080/"
        },
        "id": "5iY02Kjs2kGK",
        "outputId": "41f1b9dc-3b7d-4744-9daa-0d50c54ce63f"
      },
      "execution_count": null,
      "outputs": [
        {
          "output_type": "stream",
          "name": "stdout",
          "text": [
            "Boa tarde.\n"
          ]
        }
      ]
    },
    {
      "cell_type": "code",
      "source": [
        "def par(numero):\n",
        "  '''Retorna se o número é par ou ímpar.'''\n",
        "  if int(numero)%2 == 0:\n",
        "    return True\n",
        "  else:\n",
        "    return False\n",
        "\n",
        "par(25)"
      ],
      "metadata": {
        "colab": {
          "base_uri": "https://localhost:8080/"
        },
        "id": "9UlMERkL_d_k",
        "outputId": "bccc39b8-54e1-45c8-e937-04d27134b667"
      },
      "execution_count": null,
      "outputs": [
        {
          "output_type": "execute_result",
          "data": {
            "text/plain": [
              "False"
            ]
          },
          "metadata": {},
          "execution_count": 155
        }
      ]
    },
    {
      "cell_type": "code",
      "source": [
        "def maxrandom():\n",
        "  '''Sorteia 10 números aleatórios entre 0 e 100 e retorna o maior deles.'''\n",
        "  import random\n",
        "  return max(random.choices(list(range(0,101)), k=10))\n",
        "\n",
        "maxrandom()"
      ],
      "metadata": {
        "colab": {
          "base_uri": "https://localhost:8080/"
        },
        "id": "uGWg2t2JFBcT",
        "outputId": "56fa5cb2-0b45-42b2-a8d7-3b85e5fba52a"
      },
      "execution_count": null,
      "outputs": [
        {
          "output_type": "execute_result",
          "data": {
            "text/plain": [
              "76"
            ]
          },
          "metadata": {},
          "execution_count": 163
        }
      ]
    },
    {
      "cell_type": "code",
      "source": [
        "def media_aleatoria(n):\n",
        "  '''Sorteia 10 números aleatórios entre 0 e 100 e retorna o maior deles.'''\n",
        "  import random\n",
        "  return sum(random.choices(list(range(0,101)), k=n))/n"
      ],
      "metadata": {
        "colab": {
          "base_uri": "https://localhost:8080/"
        },
        "id": "PXaE6nVwJ5kI",
        "outputId": "1f7f7817-98be-4555-8e1d-b926ef3fd545"
      },
      "execution_count": null,
      "outputs": [
        {
          "output_type": "execute_result",
          "data": {
            "text/plain": [
              "65.75"
            ]
          },
          "metadata": {},
          "execution_count": 181
        }
      ]
    },
    {
      "cell_type": "code",
      "source": [
        "def lista_alta(lista):\n",
        "  lista2 = []\n",
        "  if type(lista) == list:\n",
        "    for ele in lista:\n",
        "      lista2.append(ele.upper())\n",
        "    return lista2\n",
        "\n",
        "listax = ['cachorro', 'gato']\n",
        "lista_alta(listax)"
      ],
      "metadata": {
        "colab": {
          "base_uri": "https://localhost:8080/"
        },
        "id": "O3NKl2xfNpeg",
        "outputId": "0d1bbb92-24a9-4955-f5b5-847741f3ef98"
      },
      "execution_count": null,
      "outputs": [
        {
          "output_type": "execute_result",
          "data": {
            "text/plain": [
              "['CACHORRO', 'GATO']"
            ]
          },
          "metadata": {},
          "execution_count": 199
        }
      ]
    },
    {
      "cell_type": "code",
      "source": [
        "def somalista(lista1, lista2):\n",
        "  lista3 = []\n",
        "  for i in range(len(lista1)):\n",
        "    lista3.append(lista1[i] + lista2[i])\n",
        "  return lista3\n",
        "\n",
        "listax = [1,4,3]\n",
        "listaz = [3,5,1]\n",
        "somalista(listax, listaz)"
      ],
      "metadata": {
        "colab": {
          "base_uri": "https://localhost:8080/"
        },
        "id": "-PfiA3uKUamx",
        "outputId": "ffae241a-6089-4c7e-b9a1-5887937a9fd3"
      },
      "execution_count": null,
      "outputs": [
        {
          "output_type": "execute_result",
          "data": {
            "text/plain": [
              "[4, 9, 4]"
            ]
          },
          "metadata": {},
          "execution_count": 232
        }
      ]
    },
    {
      "cell_type": "code",
      "source": [
        "def multxlista(x, lista):\n",
        "  lista3 = []\n",
        "  for i in range(len(lista)):\n",
        "    lista3.append(x*(lista[i]))\n",
        "  return lista3\n",
        "\n",
        "listaa = [3,5,1]\n",
        "multxlista(5, listaa)\n"
      ],
      "metadata": {
        "colab": {
          "base_uri": "https://localhost:8080/"
        },
        "id": "ja_hN1AqknLS",
        "outputId": "90250722-1cbd-4929-df08-4274aae9a267"
      },
      "execution_count": null,
      "outputs": [
        {
          "output_type": "execute_result",
          "data": {
            "text/plain": [
              "[15, 25, 5]"
            ]
          },
          "metadata": {},
          "execution_count": 233
        }
      ]
    },
    {
      "cell_type": "code",
      "source": [
        "def multilista(lista1, lista2):\n",
        "  lista3 = []\n",
        "  for i in range(len(lista1)):\n",
        "    lista3.append(lista1[i] * lista2[i])\n",
        "  return lista3\n",
        "\n",
        "listax = [1,4,3]\n",
        "listaz = [3,5,1]\n",
        "multilista(listax, listaz)"
      ],
      "metadata": {
        "colab": {
          "base_uri": "https://localhost:8080/"
        },
        "id": "YJxmESYjj1PD",
        "outputId": "028a32a2-ec3c-428f-9c3c-58027e60f5e1"
      },
      "execution_count": null,
      "outputs": [
        {
          "output_type": "execute_result",
          "data": {
            "text/plain": [
              "[3, 20, 3]"
            ]
          },
          "metadata": {},
          "execution_count": 234
        }
      ]
    },
    {
      "cell_type": "code",
      "source": [
        "def somaelem(lista):\n",
        "  contador = 0\n",
        "  soma = 0\n",
        "  while contador <len(lista):\n",
        "    for ele in range(len(lista)):\n",
        "      soma += lista[ele]\n",
        "      contador += 1\n",
        "  return soma\n",
        "\n",
        "listax = [1,4,6]\n",
        "somaelem(listax)"
      ],
      "metadata": {
        "colab": {
          "base_uri": "https://localhost:8080/"
        },
        "id": "4VJXYLBdmlam",
        "outputId": "37a8fb98-c8d4-4d1b-a606-10e872ec049c"
      },
      "execution_count": null,
      "outputs": [
        {
          "output_type": "execute_result",
          "data": {
            "text/plain": [
              "11"
            ]
          },
          "metadata": {},
          "execution_count": 240
        }
      ]
    },
    {
      "cell_type": "code",
      "source": [
        "def mediaelem(lista):\n",
        "  contador = 0\n",
        "  soma = 0\n",
        "  while contador <len(lista):\n",
        "    for ele in range(len(lista)):\n",
        "      soma += lista[ele]\n",
        "      contador += 1\n",
        "  return soma/ele\n",
        "\n",
        "def somaelem(lista):\n",
        "  contador = 0\n",
        "  soma = 0\n",
        "  while contador <len(lista):\n",
        "    for ele in range(len(lista)):\n",
        "      soma += lista[ele]\n",
        "      contador += 1\n",
        "  return soma/len(lista)\n",
        "\n",
        "listax = [2,4,6]\n",
        "somaelem(listax)"
      ],
      "metadata": {
        "colab": {
          "base_uri": "https://localhost:8080/"
        },
        "id": "p0w_nsAgn8H_",
        "outputId": "16973af4-e17d-4e5b-a834-abf6595ad7b2"
      },
      "execution_count": null,
      "outputs": [
        {
          "output_type": "execute_result",
          "data": {
            "text/plain": [
              "4.0"
            ]
          },
          "metadata": {},
          "execution_count": 244
        }
      ]
    },
    {
      "cell_type": "code",
      "source": [
        "def fatorial(numero):\n",
        "  fatorial = 1\n",
        "  for i in range(1,numero + 1):\n",
        "    fatorial = fatorial*i\n",
        "  return fatorial\n",
        "\n",
        "fatorial(5)"
      ],
      "metadata": {
        "colab": {
          "base_uri": "https://localhost:8080/"
        },
        "id": "w3mF-HUFrgP-",
        "outputId": "389b7066-953a-4328-f464-1fe020c07688"
      },
      "execution_count": null,
      "outputs": [
        {
          "output_type": "execute_result",
          "data": {
            "text/plain": [
              "120"
            ]
          },
          "metadata": {},
          "execution_count": 248
        }
      ]
    },
    {
      "cell_type": "code",
      "source": [
        "def \n",
        "\n",
        "resposta_a = input('Digite a idade: ')\n",
        "while float(resposta_a.replace(',', '.')) < 0 or float(resposta_a.replace(',', '.')) > 150:\n",
        "  resposta_a = input('Entrada não válida. Digite a idade: ')\n",
        "  continue\n",
        "else:\n",
        "  pass\n",
        "resposta_b = input('Digite o salário: ')\n",
        "while float(resposta_b.replace(',', '.')) < 0:\n",
        "  resposta_a = input('Entrada não válida. Digite o salário: ')\n",
        "  continue\n",
        "else:\n",
        "  pass\n",
        "resposta_c = input('Digite o sexo (M, F ou Outro): ')\n",
        "resposta_m = ('m')\n",
        "resposta_f = ('f')\n",
        "resposta_o = ('outro')\n",
        "while resposta_c.lower() != resposta_m and resposta_c.lower() != resposta_f and resposta_c.lower() != resposta_o:\n",
        "  resposta_c = input('Entrada não válida. Digite o sexo: ')\n",
        "  continue\n",
        "else:\n",
        "  pass"
      ],
      "metadata": {
        "id": "SRauC68DvT9_"
      },
      "execution_count": null,
      "outputs": []
    },
    {
      "cell_type": "code",
      "source": [
        "def fibonacci(n):\n",
        "  if n > 1:\n",
        "    a, b = 0, 1\n",
        "    for i in range(n-1):\n",
        "      a, b = b, a + b\n",
        "    return b\n",
        "  else:\n",
        "    return n\n",
        "\n",
        "fibonacci(10)"
      ],
      "metadata": {
        "colab": {
          "base_uri": "https://localhost:8080/"
        },
        "id": "bMm5afTgVZoA",
        "outputId": "821909fb-ca3b-458e-d947-980ac16e9f78"
      },
      "execution_count": null,
      "outputs": [
        {
          "output_type": "execute_result",
          "data": {
            "text/plain": [
              "55"
            ]
          },
          "metadata": {},
          "execution_count": 1
        }
      ]
    },
    {
      "cell_type": "code",
      "source": [
        "def recfatorial(n):\n",
        "  if n == 1 or n == 0:\n",
        "    return 1\n",
        "  else:\n",
        "    return n * recfatorial(n-1)\n",
        "\n",
        "recfatorial(5)"
      ],
      "metadata": {
        "colab": {
          "base_uri": "https://localhost:8080/"
        },
        "id": "TQXc4XlcZp61",
        "outputId": "012e4b49-6784-44e0-cfa6-bbcc2acc003f"
      },
      "execution_count": null,
      "outputs": [
        {
          "output_type": "execute_result",
          "data": {
            "text/plain": [
              "120"
            ]
          },
          "metadata": {},
          "execution_count": 3
        }
      ]
    },
    {
      "cell_type": "code",
      "source": [
        "#mudar esse pra recursão\n",
        "def fibonacci(n):\n",
        "  if n > 1:\n",
        "    a, b = 0, 1\n",
        "    for i in range(n-1):\n",
        "      a, b = b, a + b\n",
        "    return b\n",
        "  else:\n",
        "    return n"
      ],
      "metadata": {
        "id": "5sDQqctNhm96"
      },
      "execution_count": null,
      "outputs": []
    },
    {
      "cell_type": "code",
      "source": [
        "def rec_fatorial(numero):\n",
        "    if numero == 1:\n",
        "        return 1\n",
        "    else:\n",
        "        return (numero * rec_fatorial(numero-1))\n",
        "\n",
        "rec_fatorial(3)"
      ],
      "metadata": {
        "colab": {
          "base_uri": "https://localhost:8080/"
        },
        "id": "CmK6v5Q-q9bd",
        "outputId": "e61e284e-61a3-4725-85de-fdbcf7388f8a"
      },
      "execution_count": null,
      "outputs": [
        {
          "output_type": "execute_result",
          "data": {
            "text/plain": [
              "6"
            ]
          },
          "metadata": {},
          "execution_count": 2
        }
      ]
    },
    {
      "cell_type": "code",
      "source": [
        "resposta_a = input('Digite a idade: ')\n",
        "while float(resposta_a.replace(',', '.')) < 0 or float(resposta_a.replace(',', '.')) > 150:\n",
        "  resposta_a = input('Entrada não válida. Digite a idade: ')\n",
        "  continue\n",
        "else:\n",
        "  pass\n",
        "resposta_b = input('Digite o salário: ')\n",
        "while float(resposta_b.replace(',', '.')) < 0:\n",
        "  resposta_a = input('Entrada não válida. Digite o salário: ')\n",
        "  continue\n",
        "else:\n",
        "  pass\n",
        "resposta_c = input('Digite o sexo (M, F ou Outro): ')\n",
        "resposta_m = ('m')\n",
        "resposta_f = ('f')\n",
        "resposta_o = ('outro')\n",
        "while resposta_c.lower() != resposta_m and resposta_c.lower() != resposta_f and resposta_c.lower() != resposta_o:\n",
        "  resposta_c = input('Entrada não válida. Digite o sexo: ')\n",
        "  continue\n",
        "else:\n",
        "  pass"
      ],
      "metadata": {
        "id": "hrwnITODr3qK"
      },
      "execution_count": null,
      "outputs": []
    }
  ],
  "metadata": {
    "colab": {
      "provenance": [],
      "authorship_tag": "ABX9TyPQQ8T0PquGrqs5oqBxXyEP",
      "include_colab_link": true
    },
    "kernelspec": {
      "display_name": "Python 3",
      "name": "python3"
    },
    "language_info": {
      "name": "python"
    }
  },
  "nbformat": 4,
  "nbformat_minor": 0
}